{
  "nbformat": 4,
  "nbformat_minor": 0,
  "metadata": {
    "kernelspec": {
      "name": "python3",
      "display_name": "Python 3"
    },
    "language_info": {
      "codemirror_mode": {
        "name": "ipython",
        "version": 3
      },
      "file_extension": ".py",
      "mimetype": "text/x-python",
      "name": "python",
      "nbconvert_exporter": "python",
      "pygments_lexer": "ipython3",
      "version": "3.6.8"
    },
    "colab": {
      "name": "BrainMouse_Unet.ipynb",
      "provenance": [],
      "collapsed_sections": [],
      "toc_visible": true,
      "machine_shape": "hm"
    },
    "accelerator": "GPU"
  },
  "cells": [
    {
      "cell_type": "markdown",
      "metadata": {
        "id": "ORlBH8h8maF1",
        "colab_type": "text"
      },
      "source": [
        "# Chargement des données"
      ]
    },
    {
      "cell_type": "markdown",
      "metadata": {
        "id": "nJl7KYjFRgVw",
        "colab_type": "text"
      },
      "source": [
        "Pour faciliter l'import du dossier, et à cause du fait que l'environnement d'exécution est nettoyé après une déconnexion, nous avons importé le dossier dans notre Drive et nous avons établi une connexion avec notre notebook."
      ]
    },
    {
      "cell_type": "code",
      "metadata": {
        "id": "rwmdzHN-mdBR",
        "colab_type": "code",
        "outputId": "587a8ace-76ab-4ef7-d97a-944cfbb28dae",
        "colab": {
          "base_uri": "https://localhost:8080/",
          "height": 275
        }
      },
      "source": [
        "!pip install PyDrive"
      ],
      "execution_count": 0,
      "outputs": [
        {
          "output_type": "stream",
          "text": [
            "Requirement already satisfied: PyDrive in /usr/local/lib/python3.6/dist-packages (1.3.1)\n",
            "Requirement already satisfied: PyYAML>=3.0 in /usr/local/lib/python3.6/dist-packages (from PyDrive) (3.13)\n",
            "Requirement already satisfied: google-api-python-client>=1.2 in /usr/local/lib/python3.6/dist-packages (from PyDrive) (1.7.11)\n",
            "Requirement already satisfied: oauth2client>=4.0.0 in /usr/local/lib/python3.6/dist-packages (from PyDrive) (4.1.3)\n",
            "Requirement already satisfied: httplib2<1dev,>=0.9.2 in /usr/local/lib/python3.6/dist-packages (from google-api-python-client>=1.2->PyDrive) (0.11.3)\n",
            "Requirement already satisfied: uritemplate<4dev,>=3.0.0 in /usr/local/lib/python3.6/dist-packages (from google-api-python-client>=1.2->PyDrive) (3.0.1)\n",
            "Requirement already satisfied: google-auth-httplib2>=0.0.3 in /usr/local/lib/python3.6/dist-packages (from google-api-python-client>=1.2->PyDrive) (0.0.3)\n",
            "Requirement already satisfied: google-auth>=1.4.1 in /tensorflow-2.1.0/python3.6 (from google-api-python-client>=1.2->PyDrive) (1.11.0)\n",
            "Requirement already satisfied: six<2dev,>=1.6.1 in /tensorflow-2.1.0/python3.6 (from google-api-python-client>=1.2->PyDrive) (1.14.0)\n",
            "Requirement already satisfied: pyasn1-modules>=0.0.5 in /tensorflow-2.1.0/python3.6 (from oauth2client>=4.0.0->PyDrive) (0.2.8)\n",
            "Requirement already satisfied: rsa>=3.1.4 in /tensorflow-2.1.0/python3.6 (from oauth2client>=4.0.0->PyDrive) (4.0)\n",
            "Requirement already satisfied: pyasn1>=0.1.7 in /tensorflow-2.1.0/python3.6 (from oauth2client>=4.0.0->PyDrive) (0.4.8)\n",
            "Requirement already satisfied: cachetools<5.0,>=2.0.0 in /tensorflow-2.1.0/python3.6 (from google-auth>=1.4.1->google-api-python-client>=1.2->PyDrive) (4.0.0)\n",
            "Requirement already satisfied: setuptools>=40.3.0 in /tensorflow-2.1.0/python3.6 (from google-auth>=1.4.1->google-api-python-client>=1.2->PyDrive) (45.1.0)\n"
          ],
          "name": "stdout"
        }
      ]
    },
    {
      "cell_type": "code",
      "metadata": {
        "id": "wn3GAZNCLkyy",
        "colab_type": "code",
        "colab": {}
      },
      "source": [
        "import os\n",
        "from pydrive.auth import GoogleAuth\n",
        "from pydrive.drive import GoogleDrive\n",
        "from google.colab import auth\n",
        "from oauth2client.client import GoogleCredentials"
      ],
      "execution_count": 0,
      "outputs": []
    },
    {
      "cell_type": "code",
      "metadata": {
        "id": "Lgr6iKJ4L1C2",
        "colab_type": "code",
        "colab": {}
      },
      "source": [
        "auth.authenticate_user()\n",
        "gauth = GoogleAuth()\n",
        "gauth.credentials = GoogleCredentials.get_application_default()\n",
        "drive = GoogleDrive(gauth)"
      ],
      "execution_count": 0,
      "outputs": []
    },
    {
      "cell_type": "code",
      "metadata": {
        "id": "owdJbxtcMeVt",
        "colab_type": "code",
        "colab": {}
      },
      "source": [
        "download = drive.CreateFile({'id': '1EEsjVZHlJpcP7ETpVIc02QEnWsa_1Ook'})\n",
        "download.GetContentFile('nifti.zip')"
      ],
      "execution_count": 0,
      "outputs": []
    },
    {
      "cell_type": "code",
      "metadata": {
        "id": "q6MmydR8PFRE",
        "colab_type": "code",
        "outputId": "6064ee70-c358-4ef1-f271-7a9c53008396",
        "colab": {
          "base_uri": "https://localhost:8080/",
          "height": 1000
        }
      },
      "source": [
        "!unzip nifti.zip"
      ],
      "execution_count": 0,
      "outputs": [
        {
          "output_type": "stream",
          "text": [
            "Archive:  nifti.zip\n",
            "   creating: nifti/\n",
            " extracting: nifti/.DS_Store         \n",
            "   creating: nifti/496/\n",
            " extracting: nifti/496/Shank_496-labels.atlas.xml  \n",
            " extracting: nifti/496/Shank_496-labels.nii  \n",
            " extracting: nifti/496/Shank_496.ibw.nii  \n",
            "   creating: nifti/497/\n",
            " extracting: nifti/497/Shank_497-labels.atlas.xml  \n",
            " extracting: nifti/497/Shank_497-labels.nii  \n",
            " extracting: nifti/497/Shank_497.ibw.nii  \n",
            "   creating: nifti/499/\n",
            " extracting: nifti/499/Shank_499-labels.atlas.xml  \n",
            " extracting: nifti/499/Shank_499-labels.nii  \n",
            " extracting: nifti/499/Shank_499.ibw.nii  \n",
            "   creating: nifti/506/\n",
            " extracting: nifti/506/Shank_506-labels.atlas.xml  \n",
            " extracting: nifti/506/Shank_506-labels.nii  \n",
            " extracting: nifti/506/Shank_506.ibw.nii  \n",
            "   creating: nifti/515/\n",
            " extracting: nifti/515/Shank_515-labels.atlas.xml  \n",
            " extracting: nifti/515/Shank_515-labels.nii  \n",
            " extracting: nifti/515/Shank_515.ibw.nii  \n",
            "   creating: nifti/520/\n",
            " extracting: nifti/520/Shank_520-labels.atlas.xml  \n",
            " extracting: nifti/520/Shank_520-labels.nii  \n",
            " extracting: nifti/520/Shank_520.ibw.nii  \n",
            "   creating: nifti/521/\n",
            " extracting: nifti/521/Shank_521-labels.atlas.xml  \n",
            " extracting: nifti/521/Shank_521-labels.nii  \n",
            " extracting: nifti/521/Shank_521.ibw.nii  \n",
            "   creating: nifti/522/\n",
            " extracting: nifti/522/Shank_522-labels.atlas.xml  \n",
            " extracting: nifti/522/Shank_522-labels.nii  \n",
            " extracting: nifti/522/Shank_522.ibw.nii  \n",
            "   creating: nifti/523/\n",
            " extracting: nifti/523/Shank_523-labels.atlas.xml  \n",
            " extracting: nifti/523/Shank_523-labels.nii  \n",
            " extracting: nifti/523/Shank_523.ibw.nii  \n",
            "   creating: nifti/527/\n",
            " extracting: nifti/527/Shank_527-labels.atlas.xml  \n",
            " extracting: nifti/527/Shank_527-labels.nii  \n",
            " extracting: nifti/527/Shank_527.ibw.nii  \n",
            "   creating: nifti/528/\n",
            " extracting: nifti/528/Shank_528-labels.atlas.xml  \n",
            " extracting: nifti/528/Shank_528-labels.nii  \n",
            " extracting: nifti/528/Shank_528.ibw.nii  \n",
            "   creating: nifti/534/\n",
            " extracting: nifti/534/Shank_534-labels.atlas.xml  \n",
            " extracting: nifti/534/Shank_534-labels.nii  \n",
            " extracting: nifti/534/Shank_534.ibw.nii  \n",
            "   creating: nifti/536/\n",
            " extracting: nifti/536/Shank_536-labels.atlas.xml  \n",
            " extracting: nifti/536/Shank_536-labels.nii  \n",
            " extracting: nifti/536/Shank_536.ibw.nii  \n",
            "   creating: nifti/541/\n",
            " extracting: nifti/541/Shank_541-labels.atlas.xml  \n",
            " extracting: nifti/541/Shank_541-labels.nii  \n",
            " extracting: nifti/541/Shank_541.ibw.nii  \n",
            "   creating: nifti/542/\n",
            " extracting: nifti/542/Shank_542-labels.atlas.xml  \n",
            " extracting: nifti/542/Shank_542-labels.nii  \n",
            " extracting: nifti/542/Shank_542.ibw.nii  \n",
            "   creating: nifti/550/\n",
            " extracting: nifti/550/Shank_550c-labels.atlas.xml  \n",
            " extracting: nifti/550/Shank_550c-labels.nii  \n",
            " extracting: nifti/550/Shank_550c.ibw.nii  \n",
            "   creating: nifti/data_test_sans_masque/\n",
            "   creating: nifti/data_test_sans_masque/498/\n",
            " extracting: nifti/data_test_sans_masque/498/Shank_498.ibw.nii  \n",
            "   creating: nifti/data_test_sans_masque/516/\n",
            " extracting: nifti/data_test_sans_masque/516/Shank_516.ibw.nii  \n",
            "   creating: nifti/nifti_em/\n",
            " extracting: nifti/nifti_em/.DS_Store  \n",
            " extracting: nifti/nifti_em/MetOD1_Day2.ibw.nii  \n",
            " extracting: nifti/nifti_em/MetOD1_Day21.ibw.nii  \n",
            " extracting: nifti/nifti_em/MetOD1_Day30.ibw.nii  \n",
            " extracting: nifti/nifti_em/MetOD1_Day35.ibw.nii  \n",
            " extracting: nifti/nifti_em/MetOG2_Day15.ibw.nii  \n",
            " extracting: nifti/nifti_em/MetOG2_Day24.ibw.nii  \n",
            "   creating: nifti/nifti_em/label/\n",
            " extracting: nifti/nifti_em/label/MetOD1_Day2-label.nii  \n",
            " extracting: nifti/nifti_em/label/MetOG2_Day15.ibw.nii.gz  \n",
            " extracting: nifti/nifti_em/label/MetOG2_Day24_segmentation.nii.gz  \n",
            " extracting: nifti/nifti_em/label/new_segmentation_MetOD1_Day30 (2).nii  \n",
            " extracting: nifti/nifti_em/label/new_segmentation_MetOD1_Day30.nii  \n"
          ],
          "name": "stdout"
        }
      ]
    },
    {
      "cell_type": "code",
      "metadata": {
        "id": "BU0X2XeNRMK1",
        "colab_type": "code",
        "colab": {}
      },
      "source": [
        "!rm -rf nifti/data_test_sans_masque/"
      ],
      "execution_count": 0,
      "outputs": []
    },
    {
      "cell_type": "code",
      "metadata": {
        "id": "KyjEGFgKRO7W",
        "colab_type": "code",
        "colab": {}
      },
      "source": [
        "!rm -rf nifti/nifti_em/"
      ],
      "execution_count": 0,
      "outputs": []
    },
    {
      "cell_type": "markdown",
      "metadata": {
        "id": "O7aPoy18Co6c",
        "colab_type": "text"
      },
      "source": [
        "# **Mise en forme des données**"
      ]
    },
    {
      "cell_type": "code",
      "metadata": {
        "id": "5LUuc0b84__L",
        "colab_type": "code",
        "outputId": "19d21f67-4e81-47e1-985e-3e35cf41113a",
        "colab": {
          "base_uri": "https://localhost:8080/",
          "height": 68
        }
      },
      "source": [
        "#from future import absolute_import, division, print_function, unicode_literals\n",
        "\n",
        "%tensorflow_version 2.x\n",
        "\n",
        "import tensorflow as tf\n",
        "import numpy as np\n",
        "import os\n",
        "from keras import backend as K\n",
        "from nibabel.testing import data_path\n",
        "import nibabel as nib \n",
        "import matplotlib.pyplot\n",
        "from sklearn.model_selection import train_test_split\n",
        "from skimage import exposure, measure,transform\n",
        "from random import sample\n",
        "from tensorflow.python import math_ops\n",
        "import random\n",
        "\n",
        "print(tf.__version__)\n",
        "print(tf.test.gpu_device_name())\n",
        "print(\"Num GPUs Available: \", len(tf.config.experimental.list_physical_devices('GPU')))\n",
        "\n",
        "\n"
      ],
      "execution_count": 0,
      "outputs": [
        {
          "output_type": "stream",
          "text": [
            "2.1.0\n",
            "/device:GPU:0\n",
            "Num GPUs Available:  1\n"
          ],
          "name": "stdout"
        }
      ]
    },
    {
      "cell_type": "markdown",
      "metadata": {
        "id": "rkoQvx9HSVXj",
        "colab_type": "text"
      },
      "source": [
        "**Import des données**\n",
        "\n",
        "Nous utilisons le parcours hiérarchique de nos dossiers pour lire les fichiers, extraire la fdata et avoir les slices au même temps."
      ]
    },
    {
      "cell_type": "code",
      "metadata": {
        "id": "_x9psM-D4__b",
        "colab_type": "code",
        "colab": {}
      },
      "source": [
        "\n",
        "\n",
        "DATA = '/content/nifti/'\n",
        "\n",
        "data_feature, data_label = [], []\n",
        "for subdir,dirs, files in os.walk(DATA):\n",
        "    #print(\"\", os.listdir('.'))\n",
        "    for file in files:\n",
        "        name= os.path.join(subdir, file)\n",
        "        #print(\"\", name)\n",
        "        if name.endswith(\".nii\") :\n",
        "            if not (\"-labels\" in name):\n",
        "                img_data = nib.load(name).get_fdata()\n",
        "                for j in range(1,128):\n",
        "                    data_feature.append(img_data[:,:,j])\n",
        "                    data_feature.append(img_data[j,:,:])\n",
        "                    data_feature.append(img_data[:,j,:])\n",
        "\n",
        "            else:\n",
        "                label_data = nib.load(name).get_fdata()\n",
        "                for j in range(1,128):\n",
        "                    data_label.append(label_data[:,:,j])\n",
        "                    data_label.append(label_data[j,:,:])\n",
        "                    data_label.append(label_data[:,j,:])\n",
        "                "
      ],
      "execution_count": 0,
      "outputs": []
    },
    {
      "cell_type": "code",
      "metadata": {
        "id": "-QShp03lndqf",
        "colab_type": "code",
        "outputId": "4079404b-cfcd-4c4f-ccd0-798cbf1198ec",
        "colab": {
          "base_uri": "https://localhost:8080/",
          "height": 34
        }
      },
      "source": [
        "range(1,len(data_feature))"
      ],
      "execution_count": 0,
      "outputs": [
        {
          "output_type": "execute_result",
          "data": {
            "text/plain": [
              "range(1, 6096)"
            ]
          },
          "metadata": {
            "tags": []
          },
          "execution_count": 76
        }
      ]
    },
    {
      "cell_type": "markdown",
      "metadata": {
        "id": "8j4ZkZAmmPTb",
        "colab_type": "text"
      },
      "source": [
        "\n",
        "Nous avons constaté que certains labels sont à 2 au lieu de 1, nous normalisons tous les labels.\n"
      ]
    },
    {
      "cell_type": "code",
      "metadata": {
        "id": "NKISd7s8jgKN",
        "colab_type": "code",
        "colab": {}
      },
      "source": [
        "no_brain_label = []\n",
        "no_brain_feature = []\n",
        "\n",
        "for i in range(len(data_label)-1,0,-1):\n",
        "  has_brain = 0\n",
        "  for j in range(1,128):\n",
        "    for k in range(1,128):\n",
        "      if (data_label[i][j][k] > 1): \n",
        "        data_label[i][j][k] = 1.\n",
        "      if (data_label[i][j][k] == 1.):\n",
        "        has_brain=1\n",
        "  if (not has_brain):\n",
        "    no_brain_label.append(data_label.pop(i))\n",
        "    no_brain_feature.append(data_feature.pop(i))"
      ],
      "execution_count": 0,
      "outputs": []
    },
    {
      "cell_type": "markdown",
      "metadata": {
        "id": "cMa0R4KTWX1u",
        "colab_type": "text"
      },
      "source": [
        "#**Modèle**"
      ]
    },
    {
      "cell_type": "markdown",
      "metadata": {
        "id": "60qGNtGqJRVo",
        "colab_type": "text"
      },
      "source": [
        "##Set input pipeline"
      ]
    },
    {
      "cell_type": "markdown",
      "metadata": {
        "id": "Lho7Rw9nTCfs",
        "colab_type": "text"
      },
      "source": [
        "Extraire le jeu de données d'entraînement et de test à partir des Datasets initauxn en utilisant la fonction split de numpy. Nous avons choisi d'entraîner 80% des données.\n",
        "\n"
      ]
    },
    {
      "cell_type": "code",
      "metadata": {
        "id": "4FBwf_7A7Bk9",
        "colab_type": "code",
        "colab": {}
      },
      "source": [
        "proportion = int(len(data_feature) * 0.8)\n",
        "\n",
        "#Split dataset  into train and test sets\n",
        "sub_data = np.split(data_feature, [ proportion, len(data_feature)])\n",
        "x_train = tf.expand_dims(tf.convert_to_tensor(sub_data[0], dtype = tf.float64), -1)\n",
        "x_test = tf.expand_dims(tf.convert_to_tensor(sub_data[1], dtype = tf.float64), -1) \n",
        "\n",
        "#Split labels into train and test\n",
        "sub_label = np.split(data_label, [ proportion, len(data_label)])\n",
        "y_train = tf.expand_dims(tf.convert_to_tensor(sub_label[0], dtype = tf.float32), -1)\n",
        "y_test = tf.expand_dims(tf.convert_to_tensor(sub_label[1], dtype = tf.float32), -1) "
      ],
      "execution_count": 0,
      "outputs": []
    },
    {
      "cell_type": "markdown",
      "metadata": {
        "id": "KgPBEaQ5Wnax",
        "colab_type": "text"
      },
      "source": [
        "Quelle est la taille de x_train ?"
      ]
    },
    {
      "cell_type": "code",
      "metadata": {
        "id": "bRMmJq6R4__l",
        "colab_type": "code",
        "outputId": "632f9670-14e1-4ba1-feec-a7c99e204fc4",
        "colab": {
          "base_uri": "https://localhost:8080/",
          "height": 51
        }
      },
      "source": [
        "print(\"x_train Shape: \", x_train.shape)\n",
        "print(\"y_train Shape: \", y_train.shape)  "
      ],
      "execution_count": 0,
      "outputs": [
        {
          "output_type": "stream",
          "text": [
            "x_train Shape:  (2964, 128, 128, 1)\n",
            "y_train Shape:  (2964, 128, 128, 1)\n"
          ],
          "name": "stdout"
        }
      ]
    },
    {
      "cell_type": "code",
      "metadata": {
        "id": "_nqAI60ACTx-",
        "colab_type": "code",
        "colab": {}
      },
      "source": [
        "BATCH_SIZE = 64\n",
        "\n",
        "train_data = tf.data.Dataset.zip((tf.data.Dataset.from_tensor_slices(x_train), tf.data.Dataset.from_tensor_slices(y_train))).batch(BATCH_SIZE)\n",
        "test_data = tf.data.Dataset.zip((tf.data.Dataset.from_tensor_slices(x_test), tf.data.Dataset.from_tensor_slices(y_test))).batch(BATCH_SIZE)"
      ],
      "execution_count": 0,
      "outputs": []
    },
    {
      "cell_type": "markdown",
      "metadata": {
        "id": "hg6wMX-vCtCt",
        "colab_type": "text"
      },
      "source": [
        "## Couches\n",
        "\n",
        "On se base sur le modèle U-net"
      ]
    },
    {
      "cell_type": "code",
      "metadata": {
        "id": "lH5N4YTU5AAE",
        "colab_type": "code",
        "colab": {}
      },
      "source": [
        "input_size = (128,128,1)\n",
        "inputs = tf.keras.layers.Input(input_size)\n",
        "conv1 = tf.keras.layers.Conv2D(64, 1, activation = 'relu', padding = 'same', kernel_initializer = 'he_normal')(inputs)\n",
        "conv1 = tf.keras.layers.Conv2D(64, 1, activation = 'relu', padding = 'same', kernel_initializer = 'he_normal')(conv1)\n",
        "pool1 = tf.keras.layers.MaxPooling2D(pool_size=(2, 2))(conv1)\n",
        "conv2 = tf.keras.layers.Conv2D(128, 1, activation = 'relu', padding = 'same', kernel_initializer = 'he_normal')(pool1)\n",
        "conv2 = tf.keras.layers.Conv2D(128, 1, activation = 'relu', padding = 'same', kernel_initializer = 'he_normal')(conv2)\n",
        "pool2 = tf.keras.layers.MaxPooling2D(pool_size=(2, 2))(conv2)\n",
        "conv3 = tf.keras.layers.Conv2D(256, 1, activation = 'relu', padding = 'same', kernel_initializer = 'he_normal')(pool2)\n",
        "conv3 = tf.keras.layers.Conv2D(256, 1, activation = 'relu', padding = 'same', kernel_initializer = 'he_normal')(conv3)\n",
        "pool3 = tf.keras.layers.MaxPooling2D(pool_size=(2, 2))(conv3)\n",
        "conv4 = tf.keras.layers.Conv2D(512, 1, activation = 'relu', padding = 'same', kernel_initializer = 'he_normal')(pool3)\n",
        "conv4 = tf.keras.layers.Conv2D(512, 1, activation = 'relu', padding = 'same', kernel_initializer = 'he_normal')(conv4)\n",
        "drop4 = tf.keras.layers.Dropout(0.5)(conv4)\n",
        "pool4 = tf.keras.layers.MaxPooling2D(pool_size=(2, 2))(drop4)\n",
        "\n",
        "conv5 = tf.keras.layers.Conv2D(1024, 1, activation = 'relu', padding = 'same', kernel_initializer = 'he_normal')(pool4)\n",
        "conv5 = tf.keras.layers.Conv2D(1024, 1, activation = 'relu', padding = 'same', kernel_initializer = 'he_normal')(conv5)\n",
        "drop5 = tf.keras.layers.Dropout(0.5)(conv5)\n",
        "\n",
        "up6 = tf.keras.layers.Conv2D(512, 2, activation = 'relu', padding = 'same', kernel_initializer = 'he_normal')(tf.keras.layers.UpSampling2D(size = (2,2))(drop5))\n",
        "merge6 = tf.keras.layers.concatenate([drop4,up6], axis = 3)\n",
        "conv6 = tf.keras.layers.Conv2D(512, 1, activation = 'relu', padding = 'same', kernel_initializer = 'he_normal')(merge6)\n",
        "conv6 = tf.keras.layers.Conv2D(512, 1, activation = 'relu', padding = 'same', kernel_initializer = 'he_normal')(conv6)\n",
        "\n",
        "up7 = tf.keras.layers.Conv2D(256, 2, activation = 'relu', padding = 'same', kernel_initializer = 'he_normal')(tf.keras.layers.UpSampling2D(size = (2,2))(conv6))\n",
        "merge7 = tf.keras.layers.concatenate([conv3,up7], axis = 3)\n",
        "conv7 = tf.keras.layers.Conv2D(256, 1, activation = 'relu', padding = 'same', kernel_initializer = 'he_normal')(merge7)\n",
        "conv7 = tf.keras.layers.Conv2D(256, 1, activation = 'relu', padding = 'same', kernel_initializer = 'he_normal')(conv7)\n",
        "\n",
        "up8 = tf.keras.layers.Conv2D(128, 2, activation = 'relu', padding = 'same', kernel_initializer = 'he_normal')(tf.keras.layers.UpSampling2D(size = (2,2))(conv7))\n",
        "merge8 = tf.keras.layers.concatenate([conv2,up8], axis = 3)\n",
        "conv8 = tf.keras.layers.Conv2D(128, 1, activation = 'relu', padding = 'same', kernel_initializer = 'he_normal')(merge8)\n",
        "conv8 = tf.keras.layers.Conv2D(128, 1, activation = 'relu', padding = 'same', kernel_initializer = 'he_normal')(conv8)\n",
        "\n",
        "up9 = tf.keras.layers.Conv2D(64, 2, activation = 'relu', padding = 'same', kernel_initializer = 'he_normal')(tf.keras.layers.UpSampling2D(size = (2,2))(conv8))\n",
        "merge9 = tf.keras.layers.concatenate([conv1,up9], axis = 3)\n",
        "conv9 = tf.keras.layers.Conv2D(64, 1, activation = 'relu', padding = 'same', kernel_initializer = 'he_normal')(merge9)\n",
        "conv9 = tf.keras.layers.Conv2D(64, 1, activation = 'relu', padding = 'same', kernel_initializer = 'he_normal')(conv9)\n",
        "conv9 = tf.keras.layers.Conv2D(2, 1, activation = 'relu', padding = 'same', kernel_initializer = 'he_normal')(conv9)\n",
        "conv10 = tf.keras.layers.Conv2D(1, 1, activation = 'sigmoid')(conv9)\n",
        "\n",
        "unet = tf.keras.Model(inputs, conv10)"
      ],
      "execution_count": 0,
      "outputs": []
    },
    {
      "cell_type": "markdown",
      "metadata": {
        "id": "2S2D9A7-HSE-",
        "colab_type": "text"
      },
      "source": [
        "## Loss et metrics"
      ]
    },
    {
      "cell_type": "code",
      "metadata": {
        "id": "F8wm0ea_HWqR",
        "colab_type": "code",
        "colab": {}
      },
      "source": [
        "def dice_coef(y_true, y_pred):\n",
        "    smooth = 1e-6\n",
        "    y_true_f = tf.keras.backend.flatten(y_true)\n",
        "    y_pred_f = pixel_wise_softmax(tf.keras.backend.flatten(y_pred))\n",
        "    intersection = tf.keras.backend.sum(y_true_f * y_pred_f)\n",
        "    return -(2. * intersection) / (tf.keras.backend.sum(y_true_f) + tf.keras.backend.sum(y_pred_f) + smooth)"
      ],
      "execution_count": 0,
      "outputs": []
    },
    {
      "cell_type": "markdown",
      "metadata": {
        "id": "Cph-zGo1CxIV",
        "colab_type": "text"
      },
      "source": [
        "#**Entrainement**\n",
        "\n",
        "## callbacks"
      ]
    },
    {
      "cell_type": "code",
      "metadata": {
        "id": "qcDytj_9Gl_X",
        "colab_type": "code",
        "colab": {}
      },
      "source": [
        "# Function for decaying the learning rate.\n",
        "# You can define any decay function you need.\n",
        "def decay(epoch):\n",
        "    if epoch < 3:\n",
        "        return 1e-3\n",
        "    elif epoch >= 3 and epoch < 7:\n",
        "        return 1e-4\n",
        "    elif epoch >= 7 and epoch < 12:\n",
        "        return 1e-6\n",
        "    else:\n",
        "        return 1e-8\n",
        "\n",
        "class PrintLR(tf.keras.callbacks.Callback):\n",
        "    def on_epoch_end(self, epoch, logs=None):\n",
        "        print('\\nLearning rate for epoch {} is {}'.format(epoch + 1,\n",
        "                                                      unet.optimizer.lr.numpy()))\n",
        "\n",
        "earlystopper = tf.keras.callbacks.EarlyStopping(monitor='accuracy', patience=5, verbose=1)\n",
        "\n",
        "callbacks = [\n",
        "    tf.keras.callbacks.LearningRateScheduler(decay),\n",
        "    PrintLR(),\n",
        "    earlystopper\n",
        "]"
      ],
      "execution_count": 0,
      "outputs": []
    },
    {
      "cell_type": "markdown",
      "metadata": {
        "id": "Nx-fGdPXTdZa",
        "colab_type": "text"
      },
      "source": [
        "Premier entraînement : Nous entraînons notre réseau avec le jeu de données initial, en utilisant dice_coef pour la loss et en rajoutant MeanIoU pour plus de visibilité sur la performance du réseau."
      ]
    },
    {
      "cell_type": "code",
      "metadata": {
        "id": "67Y-UIHK5AAL",
        "colab_type": "code",
        "outputId": "3ce2eec0-8d55-4bed-f4cc-9de014faa5e4",
        "colab": {
          "base_uri": "https://localhost:8080/",
          "height": 867
        }
      },
      "source": [
        "unet.compile(optimizer = tf.keras.optimizers.Adam(lr = 1e-4), \n",
        "              loss = dice_coef, \n",
        "              metrics = ['accuracy', tf.keras.metrics.MeanIoU(num_classes=2)])\n",
        "\n",
        "\n",
        "unet.fit(train_data, epochs=12, callbacks=callbacks, use_multiprocessing=True)"
      ],
      "execution_count": 0,
      "outputs": [
        {
          "output_type": "stream",
          "text": [
            "Train for 47 steps\n",
            "Epoch 1/12\n",
            "46/47 [============================>.] - ETA: 0s - loss: -1.9440e-06 - accuracy: 0.1680 - mean_io_u_23: 0.0904\n",
            "Learning rate for epoch 1 is 0.0010000000474974513\n",
            "47/47 [==============================] - 18s 389ms/step - loss: -2.0352e-06 - accuracy: 0.1684 - mean_io_u_23: 0.0906\n",
            "Epoch 2/12\n",
            "46/47 [============================>.] - ETA: 0s - loss: -1.9894e-06 - accuracy: 0.2135 - mean_io_u_23: 0.1198\n",
            "Learning rate for epoch 2 is 0.0010000000474974513\n",
            "47/47 [==============================] - 16s 343ms/step - loss: -2.0850e-06 - accuracy: 0.2140 - mean_io_u_23: 0.1201\n",
            "Epoch 3/12\n",
            "46/47 [============================>.] - ETA: 0s - loss: -2.1549e-06 - accuracy: 0.4206 - mean_io_u_23: 0.2537\n",
            "Learning rate for epoch 3 is 0.0010000000474974513\n",
            "47/47 [==============================] - 16s 343ms/step - loss: -2.2653e-06 - accuracy: 0.4207 - mean_io_u_23: 0.2539\n",
            "Epoch 4/12\n",
            "46/47 [============================>.] - ETA: 0s - loss: -2.5319e-06 - accuracy: 0.6339 - mean_io_u_23: 0.4058\n",
            "Learning rate for epoch 4 is 9.999999747378752e-05\n",
            "47/47 [==============================] - 16s 343ms/step - loss: -2.6685e-06 - accuracy: 0.6349 - mean_io_u_23: 0.4066\n",
            "Epoch 5/12\n",
            "46/47 [============================>.] - ETA: 0s - loss: -2.6756e-06 - accuracy: 0.7100 - mean_io_u_23: 0.4615\n",
            "Learning rate for epoch 5 is 9.999999747378752e-05\n",
            "47/47 [==============================] - 16s 343ms/step - loss: -2.8148e-06 - accuracy: 0.7104 - mean_io_u_23: 0.4620\n",
            "Epoch 6/12\n",
            "46/47 [============================>.] - ETA: 0s - loss: -2.7564e-06 - accuracy: 0.7134 - mean_io_u_23: 0.4701\n",
            "Learning rate for epoch 6 is 9.999999747378752e-05\n",
            "47/47 [==============================] - 16s 343ms/step - loss: -2.9014e-06 - accuracy: 0.7139 - mean_io_u_23: 0.4708\n",
            "Epoch 7/12\n",
            "46/47 [============================>.] - ETA: 0s - loss: -2.8114e-06 - accuracy: 0.7417 - mean_io_u_23: 0.4933\n",
            "Learning rate for epoch 7 is 9.999999747378752e-05\n",
            "47/47 [==============================] - 16s 343ms/step - loss: -2.9566e-06 - accuracy: 0.7423 - mean_io_u_23: 0.4940\n",
            "Epoch 8/12\n",
            "46/47 [============================>.] - ETA: 0s - loss: -2.8421e-06 - accuracy: 0.7567 - mean_io_u_23: 0.5063\n",
            "Learning rate for epoch 8 is 9.999999974752427e-07\n",
            "47/47 [==============================] - 16s 343ms/step - loss: -2.9877e-06 - accuracy: 0.7570 - mean_io_u_23: 0.5069\n",
            "Epoch 9/12\n",
            "46/47 [============================>.] - ETA: 0s - loss: -2.8501e-06 - accuracy: 0.7510 - mean_io_u_23: 0.5031\n",
            "Learning rate for epoch 9 is 9.999999974752427e-07\n",
            "47/47 [==============================] - 16s 344ms/step - loss: -2.9943e-06 - accuracy: 0.7513 - mean_io_u_23: 0.5037\n",
            "Epoch 10/12\n",
            "46/47 [============================>.] - ETA: 0s - loss: -2.8504e-06 - accuracy: 0.7493 - mean_io_u_23: 0.5021\n",
            "Learning rate for epoch 10 is 9.999999974752427e-07\n",
            "47/47 [==============================] - 16s 343ms/step - loss: -2.9957e-06 - accuracy: 0.7497 - mean_io_u_23: 0.5027\n",
            "Epoch 11/12\n",
            "46/47 [============================>.] - ETA: 0s - loss: -2.8501e-06 - accuracy: 0.7468 - mean_io_u_23: 0.5004\n",
            "Learning rate for epoch 11 is 9.999999974752427e-07\n",
            "47/47 [==============================] - 16s 342ms/step - loss: -2.9969e-06 - accuracy: 0.7473 - mean_io_u_23: 0.5010\n",
            "Epoch 12/12\n",
            "46/47 [============================>.] - ETA: 0s - loss: -2.8497e-06 - accuracy: 0.7450 - mean_io_u_23: 0.4990\n",
            "Learning rate for epoch 12 is 9.999999974752427e-07\n",
            "47/47 [==============================] - 16s 343ms/step - loss: -2.9964e-06 - accuracy: 0.7454 - mean_io_u_23: 0.4997\n"
          ],
          "name": "stdout"
        },
        {
          "output_type": "execute_result",
          "data": {
            "text/plain": [
              "<tensorflow.python.keras.callbacks.History at 0x7fa05bf23208>"
            ]
          },
          "metadata": {
            "tags": []
          },
          "execution_count": 102
        }
      ]
    },
    {
      "cell_type": "markdown",
      "metadata": {
        "id": "vU0_Tjm9g1wD",
        "colab_type": "text"
      },
      "source": [
        "##Résultats"
      ]
    },
    {
      "cell_type": "code",
      "metadata": {
        "id": "pB4_fUpM5AAV",
        "colab_type": "code",
        "outputId": "1395cd5c-ddf1-4650-cda6-3a3853186657",
        "colab": {
          "base_uri": "https://localhost:8080/",
          "height": 34
        }
      },
      "source": [
        "loss = unet.evaluate(x_test,y_test)"
      ],
      "execution_count": 0,
      "outputs": [
        {
          "output_type": "stream",
          "text": [
            "742/742 [==============================] - 2s 3ms/sample - loss: -5.6927e-06 - accuracy: 0.6576 - mean_io_u_23: 0.4348\n"
          ],
          "name": "stdout"
        }
      ]
    },
    {
      "cell_type": "code",
      "metadata": {
        "id": "kUH1Bb1lB3Uc",
        "colab_type": "code",
        "outputId": "8e4b1ad0-3670-448e-90b3-ab01df051a81",
        "colab": {
          "base_uri": "https://localhost:8080/",
          "height": 309
        }
      },
      "source": [
        "\n",
        "#Plot expected result\n",
        "\n",
        "y_test_array = np.array(y_test)   \n",
        "print(\"Expected mask\")\n",
        "expected = y_test_array[10]\n",
        "matplotlib.pyplot.matshow(expected.reshape((128, 128)))\n"
      ],
      "execution_count": 0,
      "outputs": [
        {
          "output_type": "stream",
          "text": [
            "Expected mask\n"
          ],
          "name": "stdout"
        },
        {
          "output_type": "execute_result",
          "data": {
            "text/plain": [
              "<matplotlib.image.AxesImage at 0x7fa3f66f8b70>"
            ]
          },
          "metadata": {
            "tags": []
          },
          "execution_count": 104
        },
        {
          "output_type": "display_data",
          "data": {
            "image/png": "[encoded data removed]",
            "text/plain": [
              "<Figure size 288x288 with 1 Axes>"
            ]
          },
          "metadata": {
            "tags": []
          }
        }
      ]
    },
    {
      "cell_type": "code",
      "metadata": {
        "id": "P2w73lyp3Edg",
        "colab_type": "code",
        "outputId": "1527f689-bd51-4986-bb73-f004e58e381f",
        "colab": {
          "base_uri": "https://localhost:8080/",
          "height": 309
        }
      },
      "source": [
        "#plot our result\n",
        "\n",
        "print(\"What we got\")\n",
        "predicted = model.predict(x_test)\n",
        "model_result = predicted[10]\n",
        "matplotlib.pyplot.matshow(model_result.reshape((128, 128)))"
      ],
      "execution_count": 0,
      "outputs": [
        {
          "output_type": "stream",
          "text": [
            "What we got\n"
          ],
          "name": "stdout"
        },
        {
          "output_type": "execute_result",
          "data": {
            "text/plain": [
              "<matplotlib.image.AxesImage at 0x7fa05f7869b0>"
            ]
          },
          "metadata": {
            "tags": []
          },
          "execution_count": 105
        },
        {
          "output_type": "display_data",
          "data": {
            "image/png": "[encoded data removed]",
            "text/plain": [
              "<Figure size 288x288 with 1 Axes>"
            ]
          },
          "metadata": {
            "tags": []
          }
        }
      ]
    },
    {
      "cell_type": "markdown",
      "metadata": {
        "id": "JlpmIxivHUGE",
        "colab_type": "text"
      },
      "source": [
        "#**Résultats avec weights**\n",
        "Dans cette partie on va comparer l'entrainement de notre réseau avec un poids sur les pixels pour que le réseau de neuronne prenne plus en compte certaine parties que d'autres.\n",
        "\n",
        "## Définition des fonctions de poids"
      ]
    },
    {
      "cell_type": "code",
      "metadata": {
        "id": "60gAcyTIDmvU",
        "colab_type": "code",
        "outputId": "bcd485c5-1d49-44d7-edb4-a943c4394a3e",
        "colab": {
          "base_uri": "https://localhost:8080/",
          "height": 34
        }
      },
      "source": [
        "y_train.shape"
      ],
      "execution_count": 0,
      "outputs": [
        {
          "output_type": "execute_result",
          "data": {
            "text/plain": [
              "TensorShape([2964, 128, 128, 1])"
            ]
          },
          "metadata": {
            "tags": []
          },
          "execution_count": 106
        }
      ]
    },
    {
      "cell_type": "code",
      "metadata": {
        "id": "rpGnUYlj0xw6",
        "colab_type": "code",
        "colab": {}
      },
      "source": [
        "\n",
        "#from https://github.com/ebouilhol/deepmeta/blob/master/weighted.py\n",
        "\n",
        "def weight_map(label, a, b):\n",
        "    \"\"\"\n",
        "    Création du carte de poids définissant une valeur d'importance pour chaque pixel\n",
        "    Les pixels n'appartenant pas au masque ont une valeur de poids définit à 1 par défaut\n",
        "    :param label: ensemble de x masque label 128x128\n",
        "    :param a: valeur du poids pour pixel appartenant au maque\n",
        "    :param b: valeur du poids pour pixel appartenant au contour du maque\n",
        "    :return: ensemble de y weight map 128x128\n",
        "    \"\"\"\n",
        "    weights = np.zeros((label.shape[0], 128, 128))\n",
        "\n",
        "    for k in np.arange(label.shape[0]):\n",
        "\n",
        "        lab = label[k]\n",
        "        contour = measure.find_contours(lab, 0.8)\n",
        "        indx_mask = np.where(lab == 1)[0]\n",
        "        indy_mask = np.where(lab == 1)[1]\n",
        "\n",
        "        w = np.ones((128, 128))\n",
        "        w[indx_mask, indy_mask] = a\n",
        "\n",
        "        for i in np.arange(len(contour)):\n",
        "            indx_cont = np.array(contour[i][:, 0], dtype='int')\n",
        "            indy_cont = np.array(contour[i][:, 1], dtype='int')\n",
        "            w[indx_cont, indy_cont] = b\n",
        "\n",
        "        #w = w ** 2\n",
        "        weights[k] = w\n",
        "\n",
        "    return(weights)\n",
        "\n"
      ],
      "execution_count": 0,
      "outputs": []
    },
    {
      "cell_type": "code",
      "metadata": {
        "id": "bsroUxes4rMt",
        "colab_type": "code",
        "colab": {}
      },
      "source": [
        "weight_2D = weight_map(sub_label[0], 2, 4)\n",
        "\n",
        "data_2D = sub_data[0].reshape(-1, 128, 128, 1)\n",
        "label_2D = sub_label[0].reshape(-1, 128, 128, 1)\n",
        "weight_2D = weight_2D.reshape(-1, 128, 128, 1)\n",
        "\n",
        "y = np.zeros((data_2D.shape[0], 128, 128, 2))\n",
        "y[:, :, :, 0] = label_2D[:, :, :, 0]\n",
        "y[:, :, :, 1] = weight_2D[:, :, :, 0]"
      ],
      "execution_count": 0,
      "outputs": []
    },
    {
      "cell_type": "code",
      "metadata": {
        "id": "DOWJEqgprloP",
        "colab_type": "code",
        "colab": {}
      },
      "source": [
        "#https://github.com/ebouilhol/deepmeta\n",
        "\n",
        "def weighted_cross_entropy(y_true, y_pred):\n",
        "    \"\"\"\n",
        "    -- Fonction de coût pondéré --\n",
        "    :param y_true: vrai valeur de y (label)\n",
        "    :param y_pred: valeur prédite de y par le modèle\n",
        "    :return: valeur de la fonction de cout d'entropie croisée pondérée\n",
        "    \"\"\"\n",
        "    try:\n",
        "        [seg, weight] = tf.unstack(y_true, 2, axis=3)\n",
        "\n",
        "        seg = tf.expand_dims(seg, -1)\n",
        "        weight = tf.expand_dims(weight, -1)\n",
        "    except:\n",
        "        pass\n",
        "\n",
        "    epsilon = tf.convert_to_tensor(10e-8, y_pred.dtype.base_dtype)\n",
        "    y_pred = tf.clip_by_value(y_pred, epsilon, 1 - epsilon)\n",
        "    y_pred = tf.compat.v1.log(y_pred / (1 - y_pred))\n",
        "\n",
        "    zeros = tf.zeros_like(y_pred, dtype=y_pred.dtype)  #array_ops\n",
        "    cond = (y_pred >= zeros)\n",
        "    relu_logits = math_ops.select(cond, y_pred, zeros)\n",
        "    neg_abs_logits = math_ops.select(cond, -y_pred, y_pred)\n",
        "    entropy = math_ops.add(relu_logits - y_pred * seg, math_ops.log1p(math_ops.exp(neg_abs_logits)), name=None)\n",
        "    return K.mean(math_ops.multiply(weight, entropy), axis=-1)\n"
      ],
      "execution_count": 0,
      "outputs": []
    },
    {
      "cell_type": "markdown",
      "metadata": {
        "id": "MiQo_PihgNuG",
        "colab_type": "text"
      },
      "source": [
        "##Entrainement du réseau\n",
        "###Callbacks"
      ]
    },
    {
      "cell_type": "code",
      "metadata": {
        "id": "ACwvo82K_ZXb",
        "colab_type": "code",
        "colab": {}
      },
      "source": [
        "# Function for decaying the learning rate.\n",
        "# You can define any decay function you need.\n",
        "def decay2(epoch):\n",
        "    if epoch < 3:\n",
        "        return 1e-3\n",
        "    elif epoch >= 3 and epoch < 7:\n",
        "        return 1e-4\n",
        "    elif epoch >= 7 and epoch < 12:\n",
        "        return 1e-6\n",
        "    else:\n",
        "        return 1e-8\n",
        "\n",
        "class PrintLR(tf.keras.callbacks.Callback):\n",
        "    def on_epoch_end(self, epoch, logs=None):\n",
        "        print('\\nLearning rate for epoch {} is {}'.format(epoch + 1,\n",
        "                                                      unet.optimizer.lr.numpy()))\n",
        "\n",
        "earlystopper = tf.keras.callbacks.EarlyStopping(monitor='accuracy', patience=5, verbose=1)\n",
        "\n",
        "\n",
        "callbacks2 = [\n",
        "    tf.keras.callbacks.LearningRateScheduler(decay2),\n",
        "    PrintLR(),\n",
        "]"
      ],
      "execution_count": 0,
      "outputs": []
    },
    {
      "cell_type": "code",
      "metadata": {
        "id": "G7AVeY39gZlL",
        "colab_type": "code",
        "outputId": "af057361-56c3-4897-fca5-9ca8d02d09dd",
        "colab": {
          "base_uri": "https://localhost:8080/",
          "height": 867
        }
      },
      "source": [
        "unet_w  = tf.keras.Model(inputs, conv10)\n",
        "unet_w .compile(optimizer = tf.keras.optimizers.Adam(lr = 1e-4), \n",
        "              loss = weighted_cross_entropy,\n",
        "              metrics = ['accuracy'])\n",
        "\n",
        "\n",
        "unet_w.fit(data_2D, y, epochs=12, callbacks=callbacks2, use_multiprocessing=True)"
      ],
      "execution_count": 0,
      "outputs": [
        {
          "output_type": "stream",
          "text": [
            "Train on 2964 samples\n",
            "Epoch 1/12\n",
            "2944/2964 [============================>.] - ETA: 0s - loss: 4.3177 - accuracy: 0.4362\n",
            "Learning rate for epoch 1 is 9.999999974752427e-07\n",
            "2964/2964 [==============================] - 18s 6ms/sample - loss: 4.3135 - accuracy: 0.4363\n",
            "Epoch 2/12\n",
            "2944/2964 [============================>.] - ETA: 0s - loss: 4.3105 - accuracy: 0.4363\n",
            "Learning rate for epoch 2 is 9.999999974752427e-07\n",
            "2964/2964 [==============================] - 17s 6ms/sample - loss: 4.3135 - accuracy: 0.4363\n",
            "Epoch 3/12\n",
            "2944/2964 [============================>.] - ETA: 0s - loss: 4.3101 - accuracy: 0.4363\n",
            "Learning rate for epoch 3 is 9.999999974752427e-07\n",
            "2964/2964 [==============================] - 17s 6ms/sample - loss: 4.3135 - accuracy: 0.4363\n",
            "Epoch 4/12\n",
            "2944/2964 [============================>.] - ETA: 0s - loss: 4.3171 - accuracy: 0.4362\n",
            "Learning rate for epoch 4 is 9.999999974752427e-07\n",
            "2964/2964 [==============================] - 17s 6ms/sample - loss: 4.3135 - accuracy: 0.4363\n",
            "Epoch 5/12\n",
            "2944/2964 [============================>.] - ETA: 0s - loss: 4.3101 - accuracy: 0.4363\n",
            "Learning rate for epoch 5 is 9.999999974752427e-07\n",
            "2964/2964 [==============================] - 17s 6ms/sample - loss: 4.3135 - accuracy: 0.4363\n",
            "Epoch 6/12\n",
            "2944/2964 [============================>.] - ETA: 0s - loss: 4.3110 - accuracy: 0.4363\n",
            "Learning rate for epoch 6 is 9.999999974752427e-07\n",
            "2964/2964 [==============================] - 17s 6ms/sample - loss: 4.3135 - accuracy: 0.4363\n",
            "Epoch 7/12\n",
            "2944/2964 [============================>.] - ETA: 0s - loss: 4.3154 - accuracy: 0.4363\n",
            "Learning rate for epoch 7 is 9.999999974752427e-07\n",
            "2964/2964 [==============================] - 17s 6ms/sample - loss: 4.3135 - accuracy: 0.4363\n",
            "Epoch 8/12\n",
            "2944/2964 [============================>.] - ETA: 0s - loss: 4.3151 - accuracy: 0.4363\n",
            "Learning rate for epoch 8 is 9.999999974752427e-07\n",
            "2964/2964 [==============================] - 17s 6ms/sample - loss: 4.3135 - accuracy: 0.4363\n",
            "Epoch 9/12\n",
            "2944/2964 [============================>.] - ETA: 0s - loss: 4.3113 - accuracy: 0.4363\n",
            "Learning rate for epoch 9 is 9.999999974752427e-07\n",
            "2964/2964 [==============================] - 17s 6ms/sample - loss: 4.3135 - accuracy: 0.4363\n",
            "Epoch 10/12\n",
            "2944/2964 [============================>.] - ETA: 0s - loss: 4.3180 - accuracy: 0.4362\n",
            "Learning rate for epoch 10 is 9.999999974752427e-07\n",
            "2964/2964 [==============================] - 17s 6ms/sample - loss: 4.3135 - accuracy: 0.4363\n",
            "Epoch 11/12\n",
            "2944/2964 [============================>.] - ETA: 0s - loss: 4.3119 - accuracy: 0.4363\n",
            "Learning rate for epoch 11 is 9.999999974752427e-07\n",
            "2964/2964 [==============================] - 17s 6ms/sample - loss: 4.3135 - accuracy: 0.4363\n",
            "Epoch 12/12\n",
            "2944/2964 [============================>.] - ETA: 0s - loss: 4.3166 - accuracy: 0.4362\n",
            "Learning rate for epoch 12 is 9.999999974752427e-07\n",
            "2964/2964 [==============================] - 17s 6ms/sample - loss: 4.3135 - accuracy: 0.4363\n"
          ],
          "name": "stdout"
        },
        {
          "output_type": "execute_result",
          "data": {
            "text/plain": [
              "<tensorflow.python.keras.callbacks.History at 0x7fa05c593780>"
            ]
          },
          "metadata": {
            "tags": []
          },
          "execution_count": 115
        }
      ]
    },
    {
      "cell_type": "code",
      "metadata": {
        "id": "R-L-5cLdvIK0",
        "colab_type": "code",
        "outputId": "a4b7ce52-6544-42b3-bf72-0f078f17149b",
        "colab": {
          "base_uri": "https://localhost:8080/",
          "height": 52
        }
      },
      "source": [
        "weight_2D_test = weight_map(sub_label[1], 2, 4)\n",
        "\n",
        "data_2D_test = sub_data[1].reshape(-1, 128, 128, 1)\n",
        "label_2D_test = sub_label[1].reshape(-1, 128, 128, 1)\n",
        "weight_2D_test = weight_2D_test.reshape(-1, 128, 128, 1)\n",
        "\n",
        "y = np.zeros((data_2D_test.shape[0], 128, 128, 2))\n",
        "y[:, :, :, 0] = y_test[:, :, :, 0]\n",
        "y[:, :, :, 1] = weight_2D_test[:, :, :, 0]\n",
        "\n",
        "unet_w.evaluate(x_test, y)"
      ],
      "execution_count": 0,
      "outputs": [
        {
          "output_type": "stream",
          "text": [
            "742/742 [==============================] - 2s 2ms/sample - loss: 0.7131 - accuracy: 0.4360\n"
          ],
          "name": "stdout"
        },
        {
          "output_type": "execute_result",
          "data": {
            "text/plain": [
              "[0.713143563495492, 0.43600962]"
            ]
          },
          "metadata": {
            "tags": []
          },
          "execution_count": 59
        }
      ]
    },
    {
      "cell_type": "code",
      "metadata": {
        "id": "Em0eqdrVIf3e",
        "colab_type": "code",
        "outputId": "1add0a18-da42-483d-f56f-e2b774ba02ed",
        "colab": {
          "base_uri": "https://localhost:8080/",
          "height": 292
        }
      },
      "source": [
        "y = np.zeros((data_2D.shape[0], 128, 128, 2))\n",
        "y[:, :, :, 0] = label_2D[:, :, :, 0]\n",
        "y[:, :, :, 1] = weight_2D[:, :, :, 0]\n",
        "\n",
        "matplotlib.pyplot.matshow(y_train[2,:,:,0])"
      ],
      "execution_count": 0,
      "outputs": [
        {
          "output_type": "execute_result",
          "data": {
            "text/plain": [
              "<matplotlib.image.AxesImage at 0x7f36a5071a20>"
            ]
          },
          "metadata": {
            "tags": []
          },
          "execution_count": 60
        },
        {
          "output_type": "display_data",
          "data": {
            "image/png": "[encoded data removed]",
            "text/plain": [
              "<Figure size 288x288 with 1 Axes>"
            ]
          },
          "metadata": {
            "tags": []
          }
        }
      ]
    },
    {
      "cell_type": "code",
      "metadata": {
        "id": "x4ZBRF2900C6",
        "colab_type": "code",
        "outputId": "01261179-7d26-4c09-863f-569a71ff7e45",
        "colab": {
          "base_uri": "https://localhost:8080/",
          "height": 310
        }
      },
      "source": [
        "print(\"Weight map\")\n",
        "\n",
        "weights = weight_2D[2]\n",
        "matplotlib.pyplot.matshow(weights.reshape((128, 128)))"
      ],
      "execution_count": 0,
      "outputs": [
        {
          "output_type": "stream",
          "text": [
            "Weight map\n"
          ],
          "name": "stdout"
        },
        {
          "output_type": "execute_result",
          "data": {
            "text/plain": [
              "<matplotlib.image.AxesImage at 0x7f36a5971518>"
            ]
          },
          "metadata": {
            "tags": []
          },
          "execution_count": 61
        },
        {
          "output_type": "display_data",
          "data": {
            "image/png": "[encoded data removed]",
            "text/plain": [
              "<Figure size 288x288 with 1 Axes>"
            ]
          },
          "metadata": {
            "tags": []
          }
        }
      ]
    },
    {
      "cell_type": "code",
      "metadata": {
        "id": "dc4ueb5CrsLz",
        "colab_type": "code",
        "outputId": "a32a42a0-2d47-40f2-8a6e-da0af65f5b0e",
        "colab": {
          "base_uri": "https://localhost:8080/",
          "height": 310
        }
      },
      "source": [
        "print(\"What we got\")\n",
        "predicted_wei = unet_w.predict(x_test)\n",
        "model_weigh_result = predicted_wei[2]\n",
        "matplotlib.pyplot.matshow(model_weigh_result.reshape((128, 128)))"
      ],
      "execution_count": 0,
      "outputs": [
        {
          "output_type": "stream",
          "text": [
            "What we got\n"
          ],
          "name": "stdout"
        },
        {
          "output_type": "execute_result",
          "data": {
            "text/plain": [
              "<matplotlib.image.AxesImage at 0x7f36a47728d0>"
            ]
          },
          "metadata": {
            "tags": []
          },
          "execution_count": 62
        },
        {
          "output_type": "display_data",
          "data": {
            "image/png": "[encoded data removed]",
            "text/plain": [
              "<Figure size 288x288 with 1 Axes>"
            ]
          },
          "metadata": {
            "tags": []
          }
        }
      ]
    },
    {
      "cell_type": "markdown",
      "metadata": {
        "id": "VPFbJkvr3nwp",
        "colab_type": "text"
      },
      "source": [
        "#Augmentation de données"
      ]
    },
    {
      "cell_type": "markdown",
      "metadata": {
        "id": "JBkPlAOZ6xss",
        "colab_type": "text"
      },
      "source": [
        "\n",
        "\n",
        "Au début, nous avons essayé d'utiliser la classe ImageDataGenerator de Keras, mais nous n'avons pas pu avoir des résultats.  Nous avons donc décidé d'essayer quelques transformations de Tensorflow : Rotation et découpage"
      ]
    },
    {
      "cell_type": "code",
      "metadata": {
        "id": "38WEzdWapIQw",
        "colab_type": "code",
        "colab": {}
      },
      "source": [
        "from tensorflow.keras.preprocessing.image import ImageDataGenerator\n",
        "from matplotlib.pyplot import imread, imshow, subplots, show\n",
        "\n",
        "#https://www.kaggle.com/shenmbsw/data-augmentation-and-tensorflow-u-net\n",
        "\n",
        "def aug_data(old_train, old_label,angel=30,resize_rate=1):\n",
        "\n",
        "    flip = random.randint(0, 1)\n",
        "    size = int(old_train.shape[0])\n",
        "    rsize = random.randint(np.floor(resize_rate*size),size)\n",
        "    w_s = random.randint(0,size - rsize)\n",
        "    h_s = random.randint(0,size - rsize)\n",
        "    sh = random.random()/2-0.25\n",
        "    rotate_angel = random.random()/180*np.pi*angel\n",
        "    \n",
        "\n",
        "    # Create Afine transform\n",
        "    afine_tf = transform.AffineTransform(shear=sh,rotation=rotate_angel)\n",
        "    # Randomly corpping image frame\n",
        "    old_train = old_train[w_s:w_s+size,h_s:h_s+size,:]\n",
        "    old_label = old_label[w_s:w_s+size,h_s:h_s+size]\n",
        "    # Ramdomly flip frame\n",
        "    if flip:\n",
        "        old_train = old_train[:,::-1,:]\n",
        "        old_label = old_label[:,::-1]\n",
        "    return old_train, old_label\n",
        "\n"
      ],
      "execution_count": 0,
      "outputs": []
    },
    {
      "cell_type": "code",
      "metadata": {
        "id": "oRjLjAzL8bKC",
        "colab_type": "code",
        "colab": {}
      },
      "source": [
        "new_train, new_label = aug_data(x_train, y_train)\n",
        "new_xtest, new_ytest = aug_data(x_test, y_test)\n"
      ],
      "execution_count": 0,
      "outputs": []
    },
    {
      "cell_type": "markdown",
      "metadata": {
        "id": "eVOR1Z17Mg-E",
        "colab_type": "text"
      },
      "source": [
        "Ici, on concatène l'ancien jeu d'entraînement et celui que nous avons obtenu après la fonction d'augmentation pour avoir un nouveau set."
      ]
    },
    {
      "cell_type": "code",
      "metadata": {
        "id": "8MuKQBaK5gyL",
        "colab_type": "code",
        "colab": {}
      },
      "source": [
        "train = tf.concat([x_train,new_train],0)\n",
        "label = tf.concat([y_train,new_label],0)\n",
        "\n",
        "xtest = tf.concat([x_test, new_xtest],0)\n",
        "ytest = tf.concat([y_test, new_ytest],0)\n",
        "\n",
        "dataset = tf.data.Dataset.from_tensor_slices((train, label))\n",
        "dataset = dataset.batch(64).repeat()\n"
      ],
      "execution_count": 0,
      "outputs": []
    },
    {
      "cell_type": "code",
      "metadata": {
        "id": "9FTcUlygBneJ",
        "colab_type": "code",
        "colab": {}
      },
      "source": [
        "# Function for decaying the learning rate.\n",
        "# You can define any decay function you need.\n",
        "def decay3(epoch):\n",
        "    if epoch < 3:\n",
        "        return 1e-3\n",
        "    elif epoch >= 3 and epoch < 7:\n",
        "        return 1e-4\n",
        "    elif epoch >= 7 and epoch < 12:\n",
        "        return 1e-6\n",
        "    else:\n",
        "        return 1e-8\n",
        "\n",
        "class PrintLR(tf.keras.callbacks.Callback):\n",
        "    def on_epoch_end(self, epoch, logs=None):\n",
        "        print('\\nLearning rate for epoch {} is {}'.format(epoch + 1,\n",
        "                                                      model.optimizer.lr.numpy()))\n",
        "\n",
        "earlystopper = tf.keras.callbacks.EarlyStopping(monitor='accuracy', patience=5, verbose=1)\n",
        "\n",
        "\n",
        "callbacks3 = [\n",
        "    tf.keras.callbacks.LearningRateScheduler(decay3),\n",
        "   \n",
        "]"
      ],
      "execution_count": 0,
      "outputs": []
    },
    {
      "cell_type": "code",
      "metadata": {
        "id": "2qOzfUzH9Bc8",
        "colab_type": "code",
        "outputId": "96282795-f720-4eeb-bc6e-1dc11792d295",
        "colab": {
          "base_uri": "https://localhost:8080/",
          "height": 459
        }
      },
      "source": [
        "model_aug = tf.keras.Model(inputs, conv10)\n",
        "model_aug.compile(optimizer = tf.keras.optimizers.Adam(lr = 1e-4), \n",
        "              loss = dice_coef, \n",
        "              metrics = ['accuracy', tf.keras.metrics.MeanIoU(num_classes=2)])\n",
        "\n",
        "\n",
        "model_aug.fit(dataset, epochs=12, steps_per_epoch=60,  use_multiprocessing=True)\n"
      ],
      "execution_count": 0,
      "outputs": [
        {
          "output_type": "stream",
          "text": [
            "Train for 60 steps\n",
            "Epoch 1/12\n",
            "60/60 [==============================] - 23s 380ms/step - loss: -2.4533e-06 - accuracy: 0.7535 - mean_io_u_20: 0.5141\n",
            "Epoch 2/12\n",
            "60/60 [==============================] - 20s 341ms/step - loss: -2.4799e-06 - accuracy: 0.7554 - mean_io_u_20: 0.5152\n",
            "Epoch 3/12\n",
            "60/60 [==============================] - 21s 344ms/step - loss: -2.4594e-06 - accuracy: 0.7559 - mean_io_u_20: 0.5156\n",
            "Epoch 4/12\n",
            "60/60 [==============================] - 20s 341ms/step - loss: -2.4832e-06 - accuracy: 0.7472 - mean_io_u_20: 0.5093\n",
            "Epoch 5/12\n",
            "60/60 [==============================] - 20s 341ms/step - loss: -2.4849e-06 - accuracy: 0.7566 - mean_io_u_20: 0.5179\n",
            "Epoch 6/12\n",
            "60/60 [==============================] - 21s 343ms/step - loss: -2.4605e-06 - accuracy: 0.7620 - mean_io_u_20: 0.5208\n",
            "Epoch 7/12\n",
            "60/60 [==============================] - 20s 341ms/step - loss: -2.4869e-06 - accuracy: 0.7523 - mean_io_u_20: 0.5132\n",
            "Epoch 8/12\n",
            "60/60 [==============================] - 20s 341ms/step - loss: -2.4947e-06 - accuracy: 0.7587 - mean_io_u_20: 0.5190\n",
            "Epoch 9/12\n",
            "60/60 [==============================] - 21s 343ms/step - loss: -2.4632e-06 - accuracy: 0.7489 - mean_io_u_20: 0.5111\n",
            "Epoch 10/12\n",
            "60/60 [==============================] - 20s 340ms/step - loss: -2.4892e-06 - accuracy: 0.7565 - mean_io_u_20: 0.5161\n",
            "Epoch 11/12\n",
            "60/60 [==============================] - 20s 341ms/step - loss: -2.4982e-06 - accuracy: 0.7559 - mean_io_u_20: 0.5171\n",
            "Epoch 12/12\n",
            "60/60 [==============================] - 21s 343ms/step - loss: -2.4734e-06 - accuracy: 0.7607 - mean_io_u_20: 0.5205\n"
          ],
          "name": "stdout"
        },
        {
          "output_type": "execute_result",
          "data": {
            "text/plain": [
              "<tensorflow.python.keras.callbacks.History at 0x7fa3f614c128>"
            ]
          },
          "metadata": {
            "tags": []
          },
          "execution_count": 69
        }
      ]
    },
    {
      "cell_type": "code",
      "metadata": {
        "id": "WgbsMIm6FseI",
        "colab_type": "code",
        "colab": {}
      },
      "source": [
        "print(\"What we got\")\n",
        "predicted_aug = model_aug.predict(x_test)\n",
        "model_aug_result = predicted_aug[64]\n",
        "matplotlib.pyplot.matshow(model_aug_result.reshape((128, 128)))"
      ],
      "execution_count": 0,
      "outputs": []
    },
    {
      "cell_type": "code",
      "metadata": {
        "id": "ZDULrISmiDtR",
        "colab_type": "code",
        "colab": {}
      },
      "source": [
        ""
      ],
      "execution_count": 0,
      "outputs": []
    },
    {
      "cell_type": "code",
      "metadata": {
        "id": "QsqLihBbG03-",
        "colab_type": "code",
        "colab": {}
      },
      "source": [
        ""
      ],
      "execution_count": 0,
      "outputs": []
    },
    {
      "cell_type": "markdown",
      "metadata": {
        "id": "1avR4s1Fk6GG",
        "colab_type": "text"
      },
      "source": [
        "# **Augmentation avec des fenêtres**\n",
        "Ici on veut faire de la data augmentation à l'aide de fenêtre sur les images originales. \n",
        "\n",
        "Notre problème vient du fait qu'on ne veut pas mettre des images trop random dans notre jeu de données\n",
        "\n"
      ]
    },
    {
      "cell_type": "markdown",
      "metadata": {
        "id": "3M_v7CE7XFE0",
        "colab_type": "text"
      },
      "source": [
        "##Réseau de test des fenêtres\n",
        "On entraine un réseau qui va nous servir à estimer si une fenêtre bonne ou pas\n",
        "\n"
      ]
    },
    {
      "cell_type": "code",
      "metadata": {
        "id": "3wAyuFnWk8ue",
        "colab_type": "code",
        "outputId": "daaa03ce-ea45-4387-9f8a-64c0f963673c",
        "colab": {
          "base_uri": "https://localhost:8080/",
          "height": 712
        }
      },
      "source": [
        "  #Instantiate an empty model\n",
        "alexnet = tf.keras.Sequential()\n",
        "\n",
        "# 1st Convolutional Layer\n",
        "alexnet.add(tf.keras.layers.Conv2D(96, activation='relu', input_shape=(128,128,1), kernel_size=(11,11), strides=(4,4), padding='same', kernel_initializer = 'he_normal'))\n",
        "# Max Pooling\n",
        "alexnet.add(tf.keras.layers.MaxPooling2D(pool_size=(2,2), strides=(2,2), padding='same'))\n",
        "\n",
        "# 2nd Convolutional Layer\n",
        "alexnet.add(tf.keras.layers.Conv2D(256, activation='relu',kernel_size=(11,11), strides=(1,1), padding='same', kernel_initializer = 'he_normal'))\n",
        "# Max Pooling\n",
        "alexnet.add(tf.keras.layers.MaxPooling2D(pool_size=(2,2), strides=(2,2), padding='same'))\n",
        "\n",
        "# 3rd Convolutional Layer\n",
        "alexnet.add(tf.keras.layers.Conv2D(384, activation='relu',kernel_size=(3,3), strides=(1,1), padding='same', kernel_initializer = 'he_normal'))\n",
        "\n",
        "# 4th Convolutional Layer\n",
        "alexnet.add(tf.keras.layers.Conv2D(384, activation='relu',kernel_size=(3,3), strides=(1,1), padding='same'))\n",
        "\n",
        "# 5th Convolutional Layer\n",
        "alexnet.add(tf.keras.layers.Conv2D(256, activation='relu',kernel_size=(3,3), strides=(1,1), padding='same'))\n",
        "# Max Pooling\n",
        "alexnet.add(tf.keras.layers.MaxPooling2D(pool_size=(2,2), strides=(2,2), padding='same'))\n",
        "\n",
        "# Passing it to a Fully Connected layer\n",
        "alexnet.add(tf.keras.layers.Flatten())\n",
        "# 1st Fully Connected Layer\n",
        "alexnet.add(tf.keras.layers.Dense(4096, activation='relu',input_shape=(224*224*3,)))\n",
        "# Add Dropout to prevent overfitting\n",
        "alexnet.add(tf.keras.layers.Dropout(0.4))\n",
        "\n",
        "# 2nd Fully Connected Layer\n",
        "alexnet.add(tf.keras.layers.Dense(4096, activation='relu'))\n",
        "# Add Dropout\n",
        "alexnet.add(tf.keras.layers.Dropout(0.4))\n",
        "\n",
        "# 3rd Fully Connected Layer\n",
        "alexnet.add(tf.keras.layers.Dense(1000, activation='relu'))\n",
        "# Add Dropout\n",
        "alexnet.add(tf.keras.layers.Dropout(0.4))\n",
        "\n",
        "# Output Layer\n",
        "alexnet.add(tf.keras.layers.Dense(17, activation='softmax'))\n",
        "\n",
        "alexnet.summary()\n",
        "\n",
        "# Compile the model\n",
        "alexnet.compile(loss='binary_crossentropy', optimizer='adam', metrics=['accuracy']) "
      ],
      "execution_count": 0,
      "outputs": [
        {
          "output_type": "stream",
          "text": [
            "Model: \"sequential_20\"\n",
            "_________________________________________________________________\n",
            "Layer (type)                 Output Shape              Param #   \n",
            "=================================================================\n",
            "conv2d_129 (Conv2D)          (None, 32, 32, 96)        11712     \n",
            "_________________________________________________________________\n",
            "max_pooling2d_56 (MaxPooling (None, 16, 16, 96)        0         \n",
            "_________________________________________________________________\n",
            "conv2d_130 (Conv2D)          (None, 16, 16, 256)       2973952   \n",
            "_________________________________________________________________\n",
            "max_pooling2d_57 (MaxPooling (None, 8, 8, 256)         0         \n",
            "_________________________________________________________________\n",
            "conv2d_131 (Conv2D)          (None, 8, 8, 384)         885120    \n",
            "_________________________________________________________________\n",
            "conv2d_132 (Conv2D)          (None, 8, 8, 384)         1327488   \n",
            "_________________________________________________________________\n",
            "conv2d_133 (Conv2D)          (None, 8, 8, 256)         884992    \n",
            "_________________________________________________________________\n",
            "max_pooling2d_58 (MaxPooling (None, 4, 4, 256)         0         \n",
            "_________________________________________________________________\n",
            "flatten_11 (Flatten)         (None, 4096)              0         \n",
            "_________________________________________________________________\n",
            "dense_44 (Dense)             (None, 4096)              16781312  \n",
            "_________________________________________________________________\n",
            "dropout_37 (Dropout)         (None, 4096)              0         \n",
            "_________________________________________________________________\n",
            "dense_45 (Dense)             (None, 4096)              16781312  \n",
            "_________________________________________________________________\n",
            "dropout_38 (Dropout)         (None, 4096)              0         \n",
            "_________________________________________________________________\n",
            "dense_46 (Dense)             (None, 1000)              4097000   \n",
            "_________________________________________________________________\n",
            "dropout_39 (Dropout)         (None, 1000)              0         \n",
            "_________________________________________________________________\n",
            "dense_47 (Dense)             (None, 17)                17017     \n",
            "=================================================================\n",
            "Total params: 43,759,905\n",
            "Trainable params: 43,759,905\n",
            "Non-trainable params: 0\n",
            "_________________________________________________________________\n"
          ],
          "name": "stdout"
        }
      ]
    },
    {
      "cell_type": "markdown",
      "metadata": {
        "id": "6nCIm8WmvTbf",
        "colab_type": "text"
      },
      "source": [
        "Pour les données on prend uniquement des images de cerveaux"
      ]
    },
    {
      "cell_type": "code",
      "metadata": {
        "id": "trEYGgrrvOyt",
        "colab_type": "code",
        "outputId": "f607f3ef-94e0-4c52-d0ee-0d9080e0f986",
        "colab": {
          "base_uri": "https://localhost:8080/",
          "height": 34
        }
      },
      "source": [
        "data_label_f = data_label.copy()\n",
        "data_feature_f = data_feature.copy()\n",
        "\n",
        "\n",
        "for i in range(len(data_label)-1,0,-1):\n",
        "  number_brain = 0\n",
        "  for j in range(1,128):\n",
        "    for k in range(1,128):\n",
        "      if (data_label_f[i][j][k] > 1): \n",
        "        data_label[i][j][k] = 1.\n",
        "      if (data_label_f[i][j][k] == 1.):\n",
        "        number_brain+=1\n",
        "  if (number_brain<500):\n",
        "    data_label_f.pop(i)\n",
        "    data_feature_f.pop(i)\n",
        "len(data_feature_f)"
      ],
      "execution_count": 0,
      "outputs": [
        {
          "output_type": "execute_result",
          "data": {
            "text/plain": [
              "3272"
            ]
          },
          "metadata": {
            "tags": []
          },
          "execution_count": 213
        }
      ]
    },
    {
      "cell_type": "markdown",
      "metadata": {
        "id": "PqyLRz6O0R2o",
        "colab_type": "text"
      },
      "source": [
        "Maintenant on a uniquement des images de cerveaux. On ajoute les noms images de cerveaux."
      ]
    },
    {
      "cell_type": "code",
      "metadata": {
        "id": "m29Ij9ne0aXu",
        "colab_type": "code",
        "outputId": "901d21c5-0bb4-49f6-aad3-e8c1e8266e4e",
        "colab": {
          "base_uri": "https://localhost:8080/",
          "height": 52
        }
      },
      "source": [
        "data_label_f = np.concatenate((np.ones((len(data_label_f))), np.zeros(len(no_brain_label))), axis=0)\n",
        "data_feature_f = np.concatenate((data_feature_f, no_brain_feature), axis=0)\n",
        "print(len(data_feature_f))\n",
        "print(len(data_label_f))"
      ],
      "execution_count": 0,
      "outputs": [
        {
          "output_type": "stream",
          "text": [
            "5662\n",
            "5662\n"
          ],
          "name": "stdout"
        }
      ]
    },
    {
      "cell_type": "code",
      "metadata": {
        "id": "Lv16VrxAAn1p",
        "colab_type": "code",
        "outputId": "1c33e45b-1607-4ac7-bb1a-82e0a263c073",
        "colab": {
          "base_uri": "https://localhost:8080/",
          "height": 34
        }
      },
      "source": [
        "data_label_f"
      ],
      "execution_count": 0,
      "outputs": [
        {
          "output_type": "execute_result",
          "data": {
            "text/plain": [
              "array([1., 1., 1., ..., 0., 0., 0.])"
            ]
          },
          "metadata": {
            "tags": []
          },
          "execution_count": 215
        }
      ]
    },
    {
      "cell_type": "code",
      "metadata": {
        "id": "6Wc0Joj18ULT",
        "colab_type": "code",
        "colab": {}
      },
      "source": [
        "def unison_shuffled_copies(a, b):\n",
        "    assert len(a) == len(b)\n",
        "    p = np.random.permutation(len(a))\n",
        "    return a[p], b[p]\n",
        "    \n",
        "data_label_f, data_feature_f = unison_shuffled_copies(data_label_f, data_feature_f)"
      ],
      "execution_count": 0,
      "outputs": []
    },
    {
      "cell_type": "code",
      "metadata": {
        "id": "KEppkhkb69C9",
        "colab_type": "code",
        "colab": {}
      },
      "source": [
        "proportion = int(len(data_feature_f) * 0.8)\n",
        "\n",
        "\n",
        "#Split dataset  into train and test sets\n",
        "sub_data_f = np.split(data_feature_f, [ proportion, len(data_feature_f)])\n",
        "x_train_f = tf.expand_dims(tf.convert_to_tensor(sub_data_f[0], dtype = tf.float64), -1)\n",
        "x_test_f = tf.expand_dims(tf.convert_to_tensor(sub_data_f[1], dtype = tf.float64), -1) \n",
        "\n",
        "#Split labels into train and test\n",
        "sub_label_f = np.split(data_label_f, [ proportion, len(data_label_f)])\n",
        "y_train_f = tf.expand_dims(tf.convert_to_tensor(sub_label_f[0], dtype = tf.int32), -1)\n",
        "y_test_f = tf.expand_dims(tf.convert_to_tensor(sub_label_f[1], dtype = tf.int32), -1) "
      ],
      "execution_count": 0,
      "outputs": []
    },
    {
      "cell_type": "code",
      "metadata": {
        "id": "-iemstxP9HTg",
        "colab_type": "code",
        "colab": {}
      },
      "source": [
        "BATCH_SIZE = 64\n",
        "\n",
        "train_data_f = tf.data.Dataset.zip((tf.data.Dataset.from_tensor_slices(x_train_f), tf.data.Dataset.from_tensor_slices(y_train_f))).batch(BATCH_SIZE)\n",
        "test_data_f = tf.data.Dataset.zip((tf.data.Dataset.from_tensor_slices(x_test_f), tf.data.Dataset.from_tensor_slices(y_test_f))).batch(BATCH_SIZE)"
      ],
      "execution_count": 0,
      "outputs": []
    },
    {
      "cell_type": "code",
      "metadata": {
        "id": "WCqBOwv8Ac3y",
        "colab_type": "code",
        "outputId": "c4b07e3d-5f12-4433-bf56-55974fd93c86",
        "colab": {
          "base_uri": "https://localhost:8080/",
          "height": 34
        }
      },
      "source": [
        "train_data_f"
      ],
      "execution_count": 0,
      "outputs": [
        {
          "output_type": "execute_result",
          "data": {
            "text/plain": [
              "<BatchDataset shapes: ((None, 128, 128, 1), (None, 1)), types: (tf.float64, tf.int32)>"
            ]
          },
          "metadata": {
            "tags": []
          },
          "execution_count": 219
        }
      ]
    },
    {
      "cell_type": "code",
      "metadata": {
        "id": "tcDhIYqupjhZ",
        "colab_type": "code",
        "colab": {}
      },
      "source": [
        "# Function for decaying the learning rate.\n",
        "# You can define any decay function you need.\n",
        "def decay_f(epoch):\n",
        "    if epoch < 3:\n",
        "        return 1e-3\n",
        "    elif epoch >= 3 and epoch < 7:\n",
        "        return 1e-4\n",
        "    elif epoch >= 7 and epoch < 12:\n",
        "        return 1e-6\n",
        "    else:\n",
        "        return 1e-8\n",
        "\n",
        "class PrintLR(tf.keras.callbacks.Callback):\n",
        "    def on_epoch_end(self, epoch, logs=None):\n",
        "        print('\\nLearning rate for epoch {} is {}'.format(epoch + 1,\n",
        "                                                      model.optimizer.lr.numpy()))\n",
        "\n",
        "\n",
        "callbacks_f = [\n",
        "    tf.keras.callbacks.LearningRateScheduler(decay_f),\n",
        "    PrintLR(),\n",
        "]"
      ],
      "execution_count": 0,
      "outputs": []
    },
    {
      "cell_type": "code",
      "metadata": {
        "id": "gxR9Tq-ItDbm",
        "colab_type": "code",
        "outputId": "9971d1f3-0df9-423c-d101-31026f1b63a2",
        "colab": {
          "base_uri": "https://localhost:8080/",
          "height": 727
        }
      },
      "source": [
        "alexnet.fit(train_data_f, epochs=12, callbacks=callbacks_f, use_multiprocessing=True)"
      ],
      "execution_count": 0,
      "outputs": [
        {
          "output_type": "stream",
          "text": [
            "Train for 71 steps\n",
            "Epoch 1/12\n",
            "69/71 [============================>.] - ETA: 0s - loss: 8.7736 - accuracy: 0.4309\n",
            "Learning rate for epoch 1 is 0.0010000000474974513\n",
            "71/71 [==============================] - 2s 24ms/step - loss: 8.7731 - accuracy: 0.4309\n",
            "Epoch 2/12\n",
            "70/71 [============================>.] - ETA: 0s - loss: 8.7699 - accuracy: 0.4311\n",
            "Learning rate for epoch 2 is 0.0010000000474974513\n",
            "71/71 [==============================] - 2s 24ms/step - loss: 8.7726 - accuracy: 0.4309\n",
            "Epoch 3/12\n",
            "70/71 [============================>.] - ETA: 0s - loss: 8.7707 - accuracy: 0.4311\n",
            "Learning rate for epoch 3 is 0.0010000000474974513\n",
            "71/71 [==============================] - 2s 24ms/step - loss: 8.7733 - accuracy: 0.4309\n",
            "Epoch 4/12\n",
            "70/71 [============================>.] - ETA: 0s - loss: 8.7697 - accuracy: 0.4311\n",
            "Learning rate for epoch 4 is 0.0010000000474974513\n",
            "71/71 [==============================] - 2s 25ms/step - loss: 8.7723 - accuracy: 0.4309\n",
            "Epoch 5/12\n",
            "70/71 [============================>.] - ETA: 0s - loss: 8.7700 - accuracy: 0.4311\n",
            "Learning rate for epoch 5 is 0.0010000000474974513\n",
            "71/71 [==============================] - 2s 25ms/step - loss: 8.7726 - accuracy: 0.4309\n",
            "Epoch 6/12\n",
            "30/71 [===========>..................] - ETA: 1s - loss: 8.9125 - accuracy: 0.4219\n",
            "Learning rate for epoch 6 is 0.0010000000474974513\n"
          ],
          "name": "stdout"
        },
        {
          "output_type": "error",
          "ename": "KeyboardInterrupt",
          "evalue": "ignored",
          "traceback": [
            "\u001b[0;31m---------------------------------------------------------------------------\u001b[0m",
            "\u001b[0;31mKeyboardInterrupt\u001b[0m                         Traceback (most recent call last)",
            "\u001b[0;32m<ipython-input-223-e8585cd0e888>\u001b[0m in \u001b[0;36m<module>\u001b[0;34m()\u001b[0m\n\u001b[0;32m----> 1\u001b[0;31m \u001b[0malexnet\u001b[0m\u001b[0;34m.\u001b[0m\u001b[0mfit\u001b[0m\u001b[0;34m(\u001b[0m\u001b[0mtrain_data_f\u001b[0m\u001b[0;34m,\u001b[0m \u001b[0mepochs\u001b[0m\u001b[0;34m=\u001b[0m\u001b[0;36m12\u001b[0m\u001b[0;34m,\u001b[0m \u001b[0mcallbacks\u001b[0m\u001b[0;34m=\u001b[0m\u001b[0mcallbacks_f\u001b[0m\u001b[0;34m,\u001b[0m \u001b[0muse_multiprocessing\u001b[0m\u001b[0;34m=\u001b[0m\u001b[0;32mTrue\u001b[0m\u001b[0;34m)\u001b[0m\u001b[0;34m\u001b[0m\u001b[0;34m\u001b[0m\u001b[0m\n\u001b[0m",
            "\u001b[0;32m/tensorflow-2.1.0/python3.6/tensorflow_core/python/keras/engine/training.py\u001b[0m in \u001b[0;36mfit\u001b[0;34m(self, x, y, batch_size, epochs, verbose, callbacks, validation_split, validation_data, shuffle, class_weight, sample_weight, initial_epoch, steps_per_epoch, validation_steps, validation_freq, max_queue_size, workers, use_multiprocessing, **kwargs)\u001b[0m\n\u001b[1;32m    817\u001b[0m         \u001b[0mmax_queue_size\u001b[0m\u001b[0;34m=\u001b[0m\u001b[0mmax_queue_size\u001b[0m\u001b[0;34m,\u001b[0m\u001b[0;34m\u001b[0m\u001b[0;34m\u001b[0m\u001b[0m\n\u001b[1;32m    818\u001b[0m         \u001b[0mworkers\u001b[0m\u001b[0;34m=\u001b[0m\u001b[0mworkers\u001b[0m\u001b[0;34m,\u001b[0m\u001b[0;34m\u001b[0m\u001b[0;34m\u001b[0m\u001b[0m\n\u001b[0;32m--> 819\u001b[0;31m         use_multiprocessing=use_multiprocessing)\n\u001b[0m\u001b[1;32m    820\u001b[0m \u001b[0;34m\u001b[0m\u001b[0m\n\u001b[1;32m    821\u001b[0m   def evaluate(self,\n",
            "\u001b[0;32m/tensorflow-2.1.0/python3.6/tensorflow_core/python/keras/engine/training_v2.py\u001b[0m in \u001b[0;36mfit\u001b[0;34m(self, model, x, y, batch_size, epochs, verbose, callbacks, validation_split, validation_data, shuffle, class_weight, sample_weight, initial_epoch, steps_per_epoch, validation_steps, validation_freq, max_queue_size, workers, use_multiprocessing, **kwargs)\u001b[0m\n\u001b[1;32m    340\u001b[0m                 \u001b[0mmode\u001b[0m\u001b[0;34m=\u001b[0m\u001b[0mModeKeys\u001b[0m\u001b[0;34m.\u001b[0m\u001b[0mTRAIN\u001b[0m\u001b[0;34m,\u001b[0m\u001b[0;34m\u001b[0m\u001b[0;34m\u001b[0m\u001b[0m\n\u001b[1;32m    341\u001b[0m                 \u001b[0mtraining_context\u001b[0m\u001b[0;34m=\u001b[0m\u001b[0mtraining_context\u001b[0m\u001b[0;34m,\u001b[0m\u001b[0;34m\u001b[0m\u001b[0;34m\u001b[0m\u001b[0m\n\u001b[0;32m--> 342\u001b[0;31m                 total_epochs=epochs)\n\u001b[0m\u001b[1;32m    343\u001b[0m             \u001b[0mcbks\u001b[0m\u001b[0;34m.\u001b[0m\u001b[0mmake_logs\u001b[0m\u001b[0;34m(\u001b[0m\u001b[0mmodel\u001b[0m\u001b[0;34m,\u001b[0m \u001b[0mepoch_logs\u001b[0m\u001b[0;34m,\u001b[0m \u001b[0mtraining_result\u001b[0m\u001b[0;34m,\u001b[0m \u001b[0mModeKeys\u001b[0m\u001b[0;34m.\u001b[0m\u001b[0mTRAIN\u001b[0m\u001b[0;34m)\u001b[0m\u001b[0;34m\u001b[0m\u001b[0;34m\u001b[0m\u001b[0m\n\u001b[1;32m    344\u001b[0m \u001b[0;34m\u001b[0m\u001b[0m\n",
            "\u001b[0;32m/tensorflow-2.1.0/python3.6/tensorflow_core/python/keras/engine/training_v2.py\u001b[0m in \u001b[0;36mrun_one_epoch\u001b[0;34m(model, iterator, execution_function, dataset_size, batch_size, strategy, steps_per_epoch, num_samples, mode, training_context, total_epochs)\u001b[0m\n\u001b[1;32m    126\u001b[0m         step=step, mode=mode, size=current_batch_size) as batch_logs:\n\u001b[1;32m    127\u001b[0m       \u001b[0;32mtry\u001b[0m\u001b[0;34m:\u001b[0m\u001b[0;34m\u001b[0m\u001b[0;34m\u001b[0m\u001b[0m\n\u001b[0;32m--> 128\u001b[0;31m         \u001b[0mbatch_outs\u001b[0m \u001b[0;34m=\u001b[0m \u001b[0mexecution_function\u001b[0m\u001b[0;34m(\u001b[0m\u001b[0miterator\u001b[0m\u001b[0;34m)\u001b[0m\u001b[0;34m\u001b[0m\u001b[0;34m\u001b[0m\u001b[0m\n\u001b[0m\u001b[1;32m    129\u001b[0m       \u001b[0;32mexcept\u001b[0m \u001b[0;34m(\u001b[0m\u001b[0mStopIteration\u001b[0m\u001b[0;34m,\u001b[0m \u001b[0merrors\u001b[0m\u001b[0;34m.\u001b[0m\u001b[0mOutOfRangeError\u001b[0m\u001b[0;34m)\u001b[0m\u001b[0;34m:\u001b[0m\u001b[0;34m\u001b[0m\u001b[0;34m\u001b[0m\u001b[0m\n\u001b[1;32m    130\u001b[0m         \u001b[0;31m# TODO(kaftan): File bug about tf function and errors.OutOfRangeError?\u001b[0m\u001b[0;34m\u001b[0m\u001b[0;34m\u001b[0m\u001b[0;34m\u001b[0m\u001b[0m\n",
            "\u001b[0;32m/tensorflow-2.1.0/python3.6/tensorflow_core/python/keras/engine/training_v2_utils.py\u001b[0m in \u001b[0;36mexecution_function\u001b[0;34m(input_fn)\u001b[0m\n\u001b[1;32m     96\u001b[0m     \u001b[0;31m# `numpy` translates Tensors to values in Eager mode.\u001b[0m\u001b[0;34m\u001b[0m\u001b[0;34m\u001b[0m\u001b[0;34m\u001b[0m\u001b[0m\n\u001b[1;32m     97\u001b[0m     return nest.map_structure(_non_none_constant_value,\n\u001b[0;32m---> 98\u001b[0;31m                               distributed_function(input_fn))\n\u001b[0m\u001b[1;32m     99\u001b[0m \u001b[0;34m\u001b[0m\u001b[0m\n\u001b[1;32m    100\u001b[0m   \u001b[0;32mreturn\u001b[0m \u001b[0mexecution_function\u001b[0m\u001b[0;34m\u001b[0m\u001b[0;34m\u001b[0m\u001b[0m\n",
            "\u001b[0;32m/tensorflow-2.1.0/python3.6/tensorflow_core/python/eager/def_function.py\u001b[0m in \u001b[0;36m__call__\u001b[0;34m(self, *args, **kwds)\u001b[0m\n\u001b[1;32m    566\u001b[0m         \u001b[0mxla_context\u001b[0m\u001b[0;34m.\u001b[0m\u001b[0mExit\u001b[0m\u001b[0;34m(\u001b[0m\u001b[0;34m)\u001b[0m\u001b[0;34m\u001b[0m\u001b[0;34m\u001b[0m\u001b[0m\n\u001b[1;32m    567\u001b[0m     \u001b[0;32melse\u001b[0m\u001b[0;34m:\u001b[0m\u001b[0;34m\u001b[0m\u001b[0;34m\u001b[0m\u001b[0m\n\u001b[0;32m--> 568\u001b[0;31m       \u001b[0mresult\u001b[0m \u001b[0;34m=\u001b[0m \u001b[0mself\u001b[0m\u001b[0;34m.\u001b[0m\u001b[0m_call\u001b[0m\u001b[0;34m(\u001b[0m\u001b[0;34m*\u001b[0m\u001b[0margs\u001b[0m\u001b[0;34m,\u001b[0m \u001b[0;34m**\u001b[0m\u001b[0mkwds\u001b[0m\u001b[0;34m)\u001b[0m\u001b[0;34m\u001b[0m\u001b[0;34m\u001b[0m\u001b[0m\n\u001b[0m\u001b[1;32m    569\u001b[0m \u001b[0;34m\u001b[0m\u001b[0m\n\u001b[1;32m    570\u001b[0m     \u001b[0;32mif\u001b[0m \u001b[0mtracing_count\u001b[0m \u001b[0;34m==\u001b[0m \u001b[0mself\u001b[0m\u001b[0;34m.\u001b[0m\u001b[0m_get_tracing_count\u001b[0m\u001b[0;34m(\u001b[0m\u001b[0;34m)\u001b[0m\u001b[0;34m:\u001b[0m\u001b[0;34m\u001b[0m\u001b[0;34m\u001b[0m\u001b[0m\n",
            "\u001b[0;32m/tensorflow-2.1.0/python3.6/tensorflow_core/python/eager/def_function.py\u001b[0m in \u001b[0;36m_call\u001b[0;34m(self, *args, **kwds)\u001b[0m\n\u001b[1;32m    597\u001b[0m       \u001b[0;31m# In this case we have created variables on the first call, so we run the\u001b[0m\u001b[0;34m\u001b[0m\u001b[0;34m\u001b[0m\u001b[0;34m\u001b[0m\u001b[0m\n\u001b[1;32m    598\u001b[0m       \u001b[0;31m# defunned version which is guaranteed to never create variables.\u001b[0m\u001b[0;34m\u001b[0m\u001b[0;34m\u001b[0m\u001b[0;34m\u001b[0m\u001b[0m\n\u001b[0;32m--> 599\u001b[0;31m       \u001b[0;32mreturn\u001b[0m \u001b[0mself\u001b[0m\u001b[0;34m.\u001b[0m\u001b[0m_stateless_fn\u001b[0m\u001b[0;34m(\u001b[0m\u001b[0;34m*\u001b[0m\u001b[0margs\u001b[0m\u001b[0;34m,\u001b[0m \u001b[0;34m**\u001b[0m\u001b[0mkwds\u001b[0m\u001b[0;34m)\u001b[0m  \u001b[0;31m# pylint: disable=not-callable\u001b[0m\u001b[0;34m\u001b[0m\u001b[0;34m\u001b[0m\u001b[0m\n\u001b[0m\u001b[1;32m    600\u001b[0m     \u001b[0;32melif\u001b[0m \u001b[0mself\u001b[0m\u001b[0;34m.\u001b[0m\u001b[0m_stateful_fn\u001b[0m \u001b[0;32mis\u001b[0m \u001b[0;32mnot\u001b[0m \u001b[0;32mNone\u001b[0m\u001b[0;34m:\u001b[0m\u001b[0;34m\u001b[0m\u001b[0;34m\u001b[0m\u001b[0m\n\u001b[1;32m    601\u001b[0m       \u001b[0;31m# Release the lock early so that multiple threads can perform the call\u001b[0m\u001b[0;34m\u001b[0m\u001b[0;34m\u001b[0m\u001b[0;34m\u001b[0m\u001b[0m\n",
            "\u001b[0;32m/tensorflow-2.1.0/python3.6/tensorflow_core/python/eager/function.py\u001b[0m in \u001b[0;36m__call__\u001b[0;34m(self, *args, **kwargs)\u001b[0m\n\u001b[1;32m   2361\u001b[0m     \u001b[0;32mwith\u001b[0m \u001b[0mself\u001b[0m\u001b[0;34m.\u001b[0m\u001b[0m_lock\u001b[0m\u001b[0;34m:\u001b[0m\u001b[0;34m\u001b[0m\u001b[0;34m\u001b[0m\u001b[0m\n\u001b[1;32m   2362\u001b[0m       \u001b[0mgraph_function\u001b[0m\u001b[0;34m,\u001b[0m \u001b[0margs\u001b[0m\u001b[0;34m,\u001b[0m \u001b[0mkwargs\u001b[0m \u001b[0;34m=\u001b[0m \u001b[0mself\u001b[0m\u001b[0;34m.\u001b[0m\u001b[0m_maybe_define_function\u001b[0m\u001b[0;34m(\u001b[0m\u001b[0margs\u001b[0m\u001b[0;34m,\u001b[0m \u001b[0mkwargs\u001b[0m\u001b[0;34m)\u001b[0m\u001b[0;34m\u001b[0m\u001b[0;34m\u001b[0m\u001b[0m\n\u001b[0;32m-> 2363\u001b[0;31m     \u001b[0;32mreturn\u001b[0m \u001b[0mgraph_function\u001b[0m\u001b[0;34m.\u001b[0m\u001b[0m_filtered_call\u001b[0m\u001b[0;34m(\u001b[0m\u001b[0margs\u001b[0m\u001b[0;34m,\u001b[0m \u001b[0mkwargs\u001b[0m\u001b[0;34m)\u001b[0m  \u001b[0;31m# pylint: disable=protected-access\u001b[0m\u001b[0;34m\u001b[0m\u001b[0;34m\u001b[0m\u001b[0m\n\u001b[0m\u001b[1;32m   2364\u001b[0m \u001b[0;34m\u001b[0m\u001b[0m\n\u001b[1;32m   2365\u001b[0m   \u001b[0;34m@\u001b[0m\u001b[0mproperty\u001b[0m\u001b[0;34m\u001b[0m\u001b[0;34m\u001b[0m\u001b[0m\n",
            "\u001b[0;32m/tensorflow-2.1.0/python3.6/tensorflow_core/python/eager/function.py\u001b[0m in \u001b[0;36m_filtered_call\u001b[0;34m(self, args, kwargs)\u001b[0m\n\u001b[1;32m   1609\u001b[0m          if isinstance(t, (ops.Tensor,\n\u001b[1;32m   1610\u001b[0m                            resource_variable_ops.BaseResourceVariable))),\n\u001b[0;32m-> 1611\u001b[0;31m         self.captured_inputs)\n\u001b[0m\u001b[1;32m   1612\u001b[0m \u001b[0;34m\u001b[0m\u001b[0m\n\u001b[1;32m   1613\u001b[0m   \u001b[0;32mdef\u001b[0m \u001b[0m_call_flat\u001b[0m\u001b[0;34m(\u001b[0m\u001b[0mself\u001b[0m\u001b[0;34m,\u001b[0m \u001b[0margs\u001b[0m\u001b[0;34m,\u001b[0m \u001b[0mcaptured_inputs\u001b[0m\u001b[0;34m,\u001b[0m \u001b[0mcancellation_manager\u001b[0m\u001b[0;34m=\u001b[0m\u001b[0;32mNone\u001b[0m\u001b[0;34m)\u001b[0m\u001b[0;34m:\u001b[0m\u001b[0;34m\u001b[0m\u001b[0;34m\u001b[0m\u001b[0m\n",
            "\u001b[0;32m/tensorflow-2.1.0/python3.6/tensorflow_core/python/eager/function.py\u001b[0m in \u001b[0;36m_call_flat\u001b[0;34m(self, args, captured_inputs, cancellation_manager)\u001b[0m\n\u001b[1;32m   1690\u001b[0m       \u001b[0;31m# No tape is watching; skip to running the function.\u001b[0m\u001b[0;34m\u001b[0m\u001b[0;34m\u001b[0m\u001b[0;34m\u001b[0m\u001b[0m\n\u001b[1;32m   1691\u001b[0m       return self._build_call_outputs(self._inference_function.call(\n\u001b[0;32m-> 1692\u001b[0;31m           ctx, args, cancellation_manager=cancellation_manager))\n\u001b[0m\u001b[1;32m   1693\u001b[0m     forward_backward = self._select_forward_and_backward_functions(\n\u001b[1;32m   1694\u001b[0m         \u001b[0margs\u001b[0m\u001b[0;34m,\u001b[0m\u001b[0;34m\u001b[0m\u001b[0;34m\u001b[0m\u001b[0m\n",
            "\u001b[0;32m/tensorflow-2.1.0/python3.6/tensorflow_core/python/eager/function.py\u001b[0m in \u001b[0;36mcall\u001b[0;34m(self, ctx, args, cancellation_manager)\u001b[0m\n\u001b[1;32m    543\u001b[0m               \u001b[0minputs\u001b[0m\u001b[0;34m=\u001b[0m\u001b[0margs\u001b[0m\u001b[0;34m,\u001b[0m\u001b[0;34m\u001b[0m\u001b[0;34m\u001b[0m\u001b[0m\n\u001b[1;32m    544\u001b[0m               \u001b[0mattrs\u001b[0m\u001b[0;34m=\u001b[0m\u001b[0;34m(\u001b[0m\u001b[0;34m\"executor_type\"\u001b[0m\u001b[0;34m,\u001b[0m \u001b[0mexecutor_type\u001b[0m\u001b[0;34m,\u001b[0m \u001b[0;34m\"config_proto\"\u001b[0m\u001b[0;34m,\u001b[0m \u001b[0mconfig\u001b[0m\u001b[0;34m)\u001b[0m\u001b[0;34m,\u001b[0m\u001b[0;34m\u001b[0m\u001b[0;34m\u001b[0m\u001b[0m\n\u001b[0;32m--> 545\u001b[0;31m               ctx=ctx)\n\u001b[0m\u001b[1;32m    546\u001b[0m         \u001b[0;32melse\u001b[0m\u001b[0;34m:\u001b[0m\u001b[0;34m\u001b[0m\u001b[0;34m\u001b[0m\u001b[0m\n\u001b[1;32m    547\u001b[0m           outputs = execute.execute_with_cancellation(\n",
            "\u001b[0;32m/tensorflow-2.1.0/python3.6/tensorflow_core/python/eager/execute.py\u001b[0m in \u001b[0;36mquick_execute\u001b[0;34m(op_name, num_outputs, inputs, attrs, ctx, name)\u001b[0m\n\u001b[1;32m     59\u001b[0m     tensors = pywrap_tensorflow.TFE_Py_Execute(ctx._handle, device_name,\n\u001b[1;32m     60\u001b[0m                                                \u001b[0mop_name\u001b[0m\u001b[0;34m,\u001b[0m \u001b[0minputs\u001b[0m\u001b[0;34m,\u001b[0m \u001b[0mattrs\u001b[0m\u001b[0;34m,\u001b[0m\u001b[0;34m\u001b[0m\u001b[0;34m\u001b[0m\u001b[0m\n\u001b[0;32m---> 61\u001b[0;31m                                                num_outputs)\n\u001b[0m\u001b[1;32m     62\u001b[0m   \u001b[0;32mexcept\u001b[0m \u001b[0mcore\u001b[0m\u001b[0;34m.\u001b[0m\u001b[0m_NotOkStatusException\u001b[0m \u001b[0;32mas\u001b[0m \u001b[0me\u001b[0m\u001b[0;34m:\u001b[0m\u001b[0;34m\u001b[0m\u001b[0;34m\u001b[0m\u001b[0m\n\u001b[1;32m     63\u001b[0m     \u001b[0;32mif\u001b[0m \u001b[0mname\u001b[0m \u001b[0;32mis\u001b[0m \u001b[0;32mnot\u001b[0m \u001b[0;32mNone\u001b[0m\u001b[0;34m:\u001b[0m\u001b[0;34m\u001b[0m\u001b[0;34m\u001b[0m\u001b[0m\n",
            "\u001b[0;31mKeyboardInterrupt\u001b[0m: "
          ]
        }
      ]
    },
    {
      "cell_type": "markdown",
      "metadata": {
        "id": "TDfPpgAshkiS",
        "colab_type": "text"
      },
      "source": [
        "# Nouvelle section"
      ]
    },
    {
      "cell_type": "markdown",
      "metadata": {
        "id": "4HdgAogSXp0l",
        "colab_type": "text"
      },
      "source": [
        "## Augmentation avec les fenêtres"
      ]
    },
    {
      "cell_type": "code",
      "metadata": {
        "id": "1pjNnIvUXsup",
        "colab_type": "code",
        "colab": {}
      },
      "source": [
        ""
      ],
      "execution_count": 0,
      "outputs": []
    }
  ]
}